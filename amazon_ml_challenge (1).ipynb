{
  "cells": [
    {
      "cell_type": "code",
      "execution_count": 35,
      "metadata": {
        "id": "bBVXrqXF84si"
      },
      "outputs": [],
      "source": [
        "import numpy as np\n",
        "import pandas as pd"
      ]
    },
    {
      "cell_type": "code",
      "execution_count": 36,
      "metadata": {
        "colab": {
          "base_uri": "https://localhost:8080/",
          "height": 641
        },
        "id": "xLeGoaTs9We5",
        "outputId": "a9053e08-af32-44b0-f1da-2362bcb414e3"
      },
      "outputs": [
        {
          "data": {
            "text/html": [
              "<div>\n",
              "<style scoped>\n",
              "    .dataframe tbody tr th:only-of-type {\n",
              "        vertical-align: middle;\n",
              "    }\n",
              "\n",
              "    .dataframe tbody tr th {\n",
              "        vertical-align: top;\n",
              "    }\n",
              "\n",
              "    .dataframe thead th {\n",
              "        text-align: right;\n",
              "    }\n",
              "</style>\n",
              "<table border=\"1\" class=\"dataframe\">\n",
              "  <thead>\n",
              "    <tr style=\"text-align: right;\">\n",
              "      <th></th>\n",
              "      <th>PRODUCT_ID</th>\n",
              "      <th>TITLE</th>\n",
              "      <th>BULLET_POINTS</th>\n",
              "      <th>DESCRIPTION</th>\n",
              "      <th>PRODUCT_TYPE_ID</th>\n",
              "      <th>PRODUCT_LENGTH</th>\n",
              "    </tr>\n",
              "  </thead>\n",
              "  <tbody>\n",
              "    <tr>\n",
              "      <th>0</th>\n",
              "      <td>1925202</td>\n",
              "      <td>ArtzFolio Tulip Flowers Blackout Curtain for D...</td>\n",
              "      <td>[LUXURIOUS &amp; APPEALING: Beautiful custom-made ...</td>\n",
              "      <td>NaN</td>\n",
              "      <td>1650</td>\n",
              "      <td>2125.980000</td>\n",
              "    </tr>\n",
              "    <tr>\n",
              "      <th>1</th>\n",
              "      <td>2673191</td>\n",
              "      <td>Marks &amp; Spencer Girls' Pyjama Sets T86_2561C_N...</td>\n",
              "      <td>[Harry Potter Hedwig Pyjamas (6-16 Yrs),100% c...</td>\n",
              "      <td>NaN</td>\n",
              "      <td>2755</td>\n",
              "      <td>393.700000</td>\n",
              "    </tr>\n",
              "    <tr>\n",
              "      <th>2</th>\n",
              "      <td>2765088</td>\n",
              "      <td>PRIKNIK Horn Red Electric Air Horn Compressor ...</td>\n",
              "      <td>[Loud Dual Tone Trumpet Horn, Compatible With ...</td>\n",
              "      <td>Specifications: Color: Red, Material: Aluminiu...</td>\n",
              "      <td>7537</td>\n",
              "      <td>748.031495</td>\n",
              "    </tr>\n",
              "    <tr>\n",
              "      <th>3</th>\n",
              "      <td>1594019</td>\n",
              "      <td>ALISHAH Women's Cotton Ankle Length Leggings C...</td>\n",
              "      <td>[Made By 95%cotton and 5% Lycra which gives yo...</td>\n",
              "      <td>AISHAH Women's Lycra Cotton Ankel Leggings. Br...</td>\n",
              "      <td>2996</td>\n",
              "      <td>787.401574</td>\n",
              "    </tr>\n",
              "    <tr>\n",
              "      <th>4</th>\n",
              "      <td>283658</td>\n",
              "      <td>The United Empire Loyalists: A Chronicle of th...</td>\n",
              "      <td>NaN</td>\n",
              "      <td>NaN</td>\n",
              "      <td>6112</td>\n",
              "      <td>598.424000</td>\n",
              "    </tr>\n",
              "  </tbody>\n",
              "</table>\n",
              "</div>"
            ],
            "text/plain": [
              "   PRODUCT_ID                                              TITLE  \\\n",
              "0     1925202  ArtzFolio Tulip Flowers Blackout Curtain for D...   \n",
              "1     2673191  Marks & Spencer Girls' Pyjama Sets T86_2561C_N...   \n",
              "2     2765088  PRIKNIK Horn Red Electric Air Horn Compressor ...   \n",
              "3     1594019  ALISHAH Women's Cotton Ankle Length Leggings C...   \n",
              "4      283658  The United Empire Loyalists: A Chronicle of th...   \n",
              "\n",
              "                                       BULLET_POINTS  \\\n",
              "0  [LUXURIOUS & APPEALING: Beautiful custom-made ...   \n",
              "1  [Harry Potter Hedwig Pyjamas (6-16 Yrs),100% c...   \n",
              "2  [Loud Dual Tone Trumpet Horn, Compatible With ...   \n",
              "3  [Made By 95%cotton and 5% Lycra which gives yo...   \n",
              "4                                                NaN   \n",
              "\n",
              "                                         DESCRIPTION  PRODUCT_TYPE_ID  \\\n",
              "0                                                NaN             1650   \n",
              "1                                                NaN             2755   \n",
              "2  Specifications: Color: Red, Material: Aluminiu...             7537   \n",
              "3  AISHAH Women's Lycra Cotton Ankel Leggings. Br...             2996   \n",
              "4                                                NaN             6112   \n",
              "\n",
              "   PRODUCT_LENGTH  \n",
              "0     2125.980000  \n",
              "1      393.700000  \n",
              "2      748.031495  \n",
              "3      787.401574  \n",
              "4      598.424000  "
            ]
          },
          "execution_count": 36,
          "metadata": {},
          "output_type": "execute_result"
        }
      ],
      "source": [
        "df1 = pd.read_csv(r\"D:\\DAIICT\\SEMESTER_2\\ML_CHALLENGE\\dataset\\train.csv\")\n",
        "df1.head()"
      ]
    },
    {
      "cell_type": "code",
      "execution_count": 39,
      "metadata": {},
      "outputs": [
        {
          "data": {
            "text/plain": [
              "(2249698, 6)"
            ]
          },
          "execution_count": 39,
          "metadata": {},
          "output_type": "execute_result"
        }
      ],
      "source": [
        "df1.shape"
      ]
    },
    {
      "cell_type": "code",
      "execution_count": 79,
      "metadata": {},
      "outputs": [
        {
          "data": {
            "text/html": [
              "<div>\n",
              "<style scoped>\n",
              "    .dataframe tbody tr th:only-of-type {\n",
              "        vertical-align: middle;\n",
              "    }\n",
              "\n",
              "    .dataframe tbody tr th {\n",
              "        vertical-align: top;\n",
              "    }\n",
              "\n",
              "    .dataframe thead th {\n",
              "        text-align: right;\n",
              "    }\n",
              "</style>\n",
              "<table border=\"1\" class=\"dataframe\">\n",
              "  <thead>\n",
              "    <tr style=\"text-align: right;\">\n",
              "      <th></th>\n",
              "      <th>PRODUCT_ID</th>\n",
              "      <th>TITLE</th>\n",
              "      <th>BULLET_POINTS</th>\n",
              "      <th>DESCRIPTION</th>\n",
              "      <th>PRODUCT_TYPE_ID</th>\n",
              "      <th>PRODUCT_LENGTH</th>\n",
              "    </tr>\n",
              "  </thead>\n",
              "  <tbody>\n",
              "    <tr>\n",
              "      <th>971</th>\n",
              "      <td>1826</td>\n",
              "      <td>2023 Guide to the Night Sky: A month-by-month ...</td>\n",
              "      <td>NaN</td>\n",
              "      <td>NaN</td>\n",
              "      <td>6142</td>\n",
              "      <td>582.676</td>\n",
              "    </tr>\n",
              "    <tr>\n",
              "      <th>5430</th>\n",
              "      <td>748555</td>\n",
              "      <td>La Costa Brava: L'emporda, Gerone Et La Route ...</td>\n",
              "      <td>NaN</td>\n",
              "      <td>NaN</td>\n",
              "      <td>6142</td>\n",
              "      <td>600.000</td>\n",
              "    </tr>\n",
              "    <tr>\n",
              "      <th>7138</th>\n",
              "      <td>504322</td>\n",
              "      <td>2020-2021 Two Year Planner: Monthly Pocket Pla...</td>\n",
              "      <td>NaN</td>\n",
              "      <td>NaN</td>\n",
              "      <td>6142</td>\n",
              "      <td>600.000</td>\n",
              "    </tr>\n",
              "    <tr>\n",
              "      <th>8350</th>\n",
              "      <td>78914</td>\n",
              "      <td>Photographs</td>\n",
              "      <td>NaN</td>\n",
              "      <td>NaN</td>\n",
              "      <td>6142</td>\n",
              "      <td>936.000</td>\n",
              "    </tr>\n",
              "    <tr>\n",
              "      <th>8600</th>\n",
              "      <td>562881</td>\n",
              "      <td>Nikon F4-F3 (Magic Lantern Guides)</td>\n",
              "      <td>NaN</td>\n",
              "      <td>NaN</td>\n",
              "      <td>6142</td>\n",
              "      <td>525.000</td>\n",
              "    </tr>\n",
              "    <tr>\n",
              "      <th>...</th>\n",
              "      <td>...</td>\n",
              "      <td>...</td>\n",
              "      <td>...</td>\n",
              "      <td>...</td>\n",
              "      <td>...</td>\n",
              "      <td>...</td>\n",
              "    </tr>\n",
              "    <tr>\n",
              "      <th>2242427</th>\n",
              "      <td>368194</td>\n",
              "      <td>Underwater Dogs 2018 Mini Wall Calendar</td>\n",
              "      <td>NaN</td>\n",
              "      <td>NaN</td>\n",
              "      <td>6142</td>\n",
              "      <td>700.000</td>\n",
              "    </tr>\n",
              "    <tr>\n",
              "      <th>2247725</th>\n",
              "      <td>717361</td>\n",
              "      <td>How to Be a Tastemaker</td>\n",
              "      <td>NaN</td>\n",
              "      <td>NaN</td>\n",
              "      <td>6142</td>\n",
              "      <td>1075.000</td>\n",
              "    </tr>\n",
              "    <tr>\n",
              "      <th>2248495</th>\n",
              "      <td>707846</td>\n",
              "      <td>2012 Provence Grid Calendar</td>\n",
              "      <td>NaN</td>\n",
              "      <td>NaN</td>\n",
              "      <td>6142</td>\n",
              "      <td>1150.000</td>\n",
              "    </tr>\n",
              "    <tr>\n",
              "      <th>2249166</th>\n",
              "      <td>293919</td>\n",
              "      <td>Entre Valais et Oberland bernois 2016: Paysage...</td>\n",
              "      <td>NaN</td>\n",
              "      <td>NaN</td>\n",
              "      <td>6142</td>\n",
              "      <td>1653.540</td>\n",
              "    </tr>\n",
              "    <tr>\n",
              "      <th>2249372</th>\n",
              "      <td>36621</td>\n",
              "      <td>Anthony Friedkin – The Gay Essay (Fine Arts Mu...</td>\n",
              "      <td>NaN</td>\n",
              "      <td>NaN</td>\n",
              "      <td>6142</td>\n",
              "      <td>1204.000</td>\n",
              "    </tr>\n",
              "  </tbody>\n",
              "</table>\n",
              "<p>1311 rows × 6 columns</p>\n",
              "</div>"
            ],
            "text/plain": [
              "         PRODUCT_ID                                              TITLE  \\\n",
              "971            1826  2023 Guide to the Night Sky: A month-by-month ...   \n",
              "5430         748555  La Costa Brava: L'emporda, Gerone Et La Route ...   \n",
              "7138         504322  2020-2021 Two Year Planner: Monthly Pocket Pla...   \n",
              "8350          78914                                        Photographs   \n",
              "8600         562881                 Nikon F4-F3 (Magic Lantern Guides)   \n",
              "...             ...                                                ...   \n",
              "2242427      368194            Underwater Dogs 2018 Mini Wall Calendar   \n",
              "2247725      717361                             How to Be a Tastemaker   \n",
              "2248495      707846                        2012 Provence Grid Calendar   \n",
              "2249166      293919  Entre Valais et Oberland bernois 2016: Paysage...   \n",
              "2249372       36621  Anthony Friedkin – The Gay Essay (Fine Arts Mu...   \n",
              "\n",
              "        BULLET_POINTS DESCRIPTION  PRODUCT_TYPE_ID  PRODUCT_LENGTH  \n",
              "971               NaN         NaN             6142         582.676  \n",
              "5430              NaN         NaN             6142         600.000  \n",
              "7138              NaN         NaN             6142         600.000  \n",
              "8350              NaN         NaN             6142         936.000  \n",
              "8600              NaN         NaN             6142         525.000  \n",
              "...               ...         ...              ...             ...  \n",
              "2242427           NaN         NaN             6142         700.000  \n",
              "2247725           NaN         NaN             6142        1075.000  \n",
              "2248495           NaN         NaN             6142        1150.000  \n",
              "2249166           NaN         NaN             6142        1653.540  \n",
              "2249372           NaN         NaN             6142        1204.000  \n",
              "\n",
              "[1311 rows x 6 columns]"
            ]
          },
          "execution_count": 79,
          "metadata": {},
          "output_type": "execute_result"
        }
      ],
      "source": [
        "df1.query('PRODUCT_TYPE_ID == 6142')"
      ]
    },
    {
      "cell_type": "code",
      "execution_count": 40,
      "metadata": {
        "colab": {
          "base_uri": "https://localhost:8080/",
          "height": 607
        },
        "id": "H7G0WMlf400r",
        "outputId": "90965d8d-49b4-42f0-83db-fe1219bc1cf5"
      },
      "outputs": [
        {
          "data": {
            "text/html": [
              "<div>\n",
              "<style scoped>\n",
              "    .dataframe tbody tr th:only-of-type {\n",
              "        vertical-align: middle;\n",
              "    }\n",
              "\n",
              "    .dataframe tbody tr th {\n",
              "        vertical-align: top;\n",
              "    }\n",
              "\n",
              "    .dataframe thead th {\n",
              "        text-align: right;\n",
              "    }\n",
              "</style>\n",
              "<table border=\"1\" class=\"dataframe\">\n",
              "  <thead>\n",
              "    <tr style=\"text-align: right;\">\n",
              "      <th></th>\n",
              "      <th>PRODUCT_ID</th>\n",
              "      <th>TITLE</th>\n",
              "      <th>BULLET_POINTS</th>\n",
              "      <th>DESCRIPTION</th>\n",
              "      <th>PRODUCT_TYPE_ID</th>\n",
              "    </tr>\n",
              "  </thead>\n",
              "  <tbody>\n",
              "    <tr>\n",
              "      <th>0</th>\n",
              "      <td>604373</td>\n",
              "      <td>Manuel d'Héliogravure Et de Photogravure En Re...</td>\n",
              "      <td>NaN</td>\n",
              "      <td>NaN</td>\n",
              "      <td>6142</td>\n",
              "    </tr>\n",
              "    <tr>\n",
              "      <th>1</th>\n",
              "      <td>1729783</td>\n",
              "      <td>DCGARING Microfiber Throw Blanket Warm Fuzzy P...</td>\n",
              "      <td>[QUALITY GUARANTEED: Luxury cozy plush polyest...</td>\n",
              "      <td>&lt;b&gt;DCGARING Throw Blanket&lt;/b&gt;&lt;br&gt;&lt;br&gt; &lt;b&gt;Size ...</td>\n",
              "      <td>1622</td>\n",
              "    </tr>\n",
              "    <tr>\n",
              "      <th>2</th>\n",
              "      <td>1871949</td>\n",
              "      <td>I-Match Auto Parts Front License Plate Bracket...</td>\n",
              "      <td>[Front License Plate Bracket Made Of Plastic,D...</td>\n",
              "      <td>Replacement for The Following Vehicles:2020 LE...</td>\n",
              "      <td>7540</td>\n",
              "    </tr>\n",
              "    <tr>\n",
              "      <th>3</th>\n",
              "      <td>1107571</td>\n",
              "      <td>PinMart Gold Plated Excellence in Service 1 Ye...</td>\n",
              "      <td>[Available as a single item or bulk packed. Se...</td>\n",
              "      <td>Our Excellence in Service Lapel Pins feature a...</td>\n",
              "      <td>12442</td>\n",
              "    </tr>\n",
              "    <tr>\n",
              "      <th>4</th>\n",
              "      <td>624253</td>\n",
              "      <td>Visual Mathematics, Illustrated by the TI-92 a...</td>\n",
              "      <td>NaN</td>\n",
              "      <td>NaN</td>\n",
              "      <td>6318</td>\n",
              "    </tr>\n",
              "  </tbody>\n",
              "</table>\n",
              "</div>"
            ],
            "text/plain": [
              "   PRODUCT_ID                                              TITLE  \\\n",
              "0      604373  Manuel d'Héliogravure Et de Photogravure En Re...   \n",
              "1     1729783  DCGARING Microfiber Throw Blanket Warm Fuzzy P...   \n",
              "2     1871949  I-Match Auto Parts Front License Plate Bracket...   \n",
              "3     1107571  PinMart Gold Plated Excellence in Service 1 Ye...   \n",
              "4      624253  Visual Mathematics, Illustrated by the TI-92 a...   \n",
              "\n",
              "                                       BULLET_POINTS  \\\n",
              "0                                                NaN   \n",
              "1  [QUALITY GUARANTEED: Luxury cozy plush polyest...   \n",
              "2  [Front License Plate Bracket Made Of Plastic,D...   \n",
              "3  [Available as a single item or bulk packed. Se...   \n",
              "4                                                NaN   \n",
              "\n",
              "                                         DESCRIPTION  PRODUCT_TYPE_ID  \n",
              "0                                                NaN             6142  \n",
              "1  <b>DCGARING Throw Blanket</b><br><br> <b>Size ...             1622  \n",
              "2  Replacement for The Following Vehicles:2020 LE...             7540  \n",
              "3  Our Excellence in Service Lapel Pins feature a...            12442  \n",
              "4                                                NaN             6318  "
            ]
          },
          "execution_count": 40,
          "metadata": {},
          "output_type": "execute_result"
        }
      ],
      "source": [
        "test_df = pd.read_csv(r\"D:\\DAIICT\\SEMESTER_2\\ML_CHALLENGE\\dataset\\test.csv\")\n",
        "test_df.head()"
      ]
    },
    {
      "cell_type": "code",
      "execution_count": 41,
      "metadata": {},
      "outputs": [
        {
          "data": {
            "text/plain": [
              "(734736, 5)"
            ]
          },
          "execution_count": 41,
          "metadata": {},
          "output_type": "execute_result"
        }
      ],
      "source": [
        "test_df.shape"
      ]
    },
    {
      "cell_type": "markdown",
      "metadata": {
        "id": "JMONY9UzD1tI"
      },
      "source": [
        "#DATA PREPROCESSING"
      ]
    },
    {
      "cell_type": "code",
      "execution_count": 42,
      "metadata": {
        "id": "tZyx9MijBUqD"
      },
      "outputs": [],
      "source": [
        "df = df1.copy()"
      ]
    },
    {
      "cell_type": "code",
      "execution_count": 43,
      "metadata": {
        "colab": {
          "base_uri": "https://localhost:8080/"
        },
        "id": "L8EZX3ux9gld",
        "outputId": "9df1aea7-9deb-44f9-fe7c-8a2e4d443a00"
      },
      "outputs": [
        {
          "data": {
            "text/plain": [
              "PRODUCT_ID               0\n",
              "TITLE                   12\n",
              "BULLET_POINTS       837364\n",
              "DESCRIPTION        1157381\n",
              "PRODUCT_TYPE_ID          0\n",
              "PRODUCT_LENGTH           0\n",
              "dtype: int64"
            ]
          },
          "execution_count": 43,
          "metadata": {},
          "output_type": "execute_result"
        }
      ],
      "source": [
        "df.isna().sum()"
      ]
    },
    {
      "cell_type": "code",
      "execution_count": 44,
      "metadata": {
        "colab": {
          "base_uri": "https://localhost:8080/"
        },
        "id": "hW3gO4KS46Nb",
        "outputId": "e030ea85-c64b-4905-a0d9-a6910f651617"
      },
      "outputs": [
        {
          "data": {
            "text/plain": [
              "PRODUCT_ID              0\n",
              "TITLE                   5\n",
              "BULLET_POINTS      275922\n",
              "DESCRIPTION        380001\n",
              "PRODUCT_TYPE_ID         0\n",
              "dtype: int64"
            ]
          },
          "execution_count": 44,
          "metadata": {},
          "output_type": "execute_result"
        }
      ],
      "source": [
        "test_df.isna().sum()"
      ]
    },
    {
      "cell_type": "code",
      "execution_count": 45,
      "metadata": {
        "colab": {
          "base_uri": "https://localhost:8080/"
        },
        "id": "FrD2L1BX_XPf",
        "outputId": "194fa115-ad1a-47aa-8b67-c831cdabcb4f"
      },
      "outputs": [],
      "source": [
        "# droping null values for title\n",
        "df = df.dropna(subset=['TITLE'])\n",
        "#bullet_points\n",
        "# Fill the missing values in the BULLET_POINTS column with \"None\"\n",
        "df['BULLET_POINTS'] = df['BULLET_POINTS'].fillna('None')\n",
        "\n",
        "#dropping description columns\n",
        "df = df.drop(['DESCRIPTION'], axis=1)\n"
      ]
    },
    {
      "cell_type": "code",
      "execution_count": 46,
      "metadata": {
        "colab": {
          "base_uri": "https://localhost:8080/"
        },
        "id": "k6fjWrj15BhA",
        "outputId": "7951db92-533c-40ac-e6af-ecded1a2f460"
      },
      "outputs": [],
      "source": [
        "#for testing\n",
        "# droping null values for title\n",
        "# test_df = test_df.dropna(subset=['TITLE'])\n",
        "test_df['TITLE'] = test_df['TITLE'].fillna('None')\n",
        "#bullet_points\n",
        "# Fill the missing values in the BULLET_POINTS column with \"None\"\n",
        "test_df['BULLET_POINTS'] = test_df['BULLET_POINTS'].fillna('None')\n",
        "\n",
        "#dropping description columns\n",
        "test_df = test_df.drop(['DESCRIPTION'], axis=1)"
      ]
    },
    {
      "cell_type": "code",
      "execution_count": 47,
      "metadata": {},
      "outputs": [
        {
          "data": {
            "text/plain": [
              "(734736, 4)"
            ]
          },
          "execution_count": 47,
          "metadata": {},
          "output_type": "execute_result"
        }
      ],
      "source": [
        "test_df.shape"
      ]
    },
    {
      "cell_type": "code",
      "execution_count": 48,
      "metadata": {
        "colab": {
          "base_uri": "https://localhost:8080/"
        },
        "id": "oCwmGTbPCdeK",
        "outputId": "e7eeaf32-8c0e-4ad7-afda-e967ba0b7dfb"
      },
      "outputs": [
        {
          "data": {
            "text/plain": [
              "PRODUCT_ID         0\n",
              "TITLE              0\n",
              "BULLET_POINTS      0\n",
              "PRODUCT_TYPE_ID    0\n",
              "PRODUCT_LENGTH     0\n",
              "dtype: int64"
            ]
          },
          "execution_count": 48,
          "metadata": {},
          "output_type": "execute_result"
        }
      ],
      "source": [
        "df.isna().sum()"
      ]
    },
    {
      "cell_type": "code",
      "execution_count": 49,
      "metadata": {
        "colab": {
          "base_uri": "https://localhost:8080/"
        },
        "id": "wlFX4L_z5KJH",
        "outputId": "bb392a7a-d856-4f3e-fe00-83c5a74b8c43"
      },
      "outputs": [
        {
          "data": {
            "text/plain": [
              "PRODUCT_ID         0\n",
              "TITLE              0\n",
              "BULLET_POINTS      0\n",
              "PRODUCT_TYPE_ID    0\n",
              "dtype: int64"
            ]
          },
          "execution_count": 49,
          "metadata": {},
          "output_type": "execute_result"
        }
      ],
      "source": [
        "#for testing\n",
        "test_df.isna().sum()"
      ]
    },
    {
      "cell_type": "code",
      "execution_count": 50,
      "metadata": {},
      "outputs": [
        {
          "name": "stdout",
          "output_type": "stream",
          "text": [
            "Defaulting to user installation because normal site-packages is not writeable\n",
            "Requirement already satisfied: nltk in c:\\users\\dhruv\\appdata\\roaming\\python\\python310\\site-packages (3.8.1)\n",
            "Requirement already satisfied: regex>=2021.8.3 in c:\\users\\dhruv\\appdata\\roaming\\python\\python310\\site-packages (from nltk) (2023.3.23)\n",
            "Requirement already satisfied: tqdm in c:\\users\\dhruv\\appdata\\roaming\\python\\python310\\site-packages (from nltk) (4.65.0)\n",
            "Requirement already satisfied: joblib in c:\\users\\dhruv\\appdata\\roaming\\python\\python310\\site-packages (from nltk) (1.2.0)\n",
            "Requirement already satisfied: click in c:\\users\\dhruv\\appdata\\roaming\\python\\python310\\site-packages (from nltk) (8.1.3)\n",
            "Requirement already satisfied: colorama in c:\\users\\dhruv\\appdata\\roaming\\python\\python310\\site-packages (from click->nltk) (0.4.4)\n"
          ]
        },
        {
          "name": "stderr",
          "output_type": "stream",
          "text": [
            "WARNING: There was an error checking the latest version of pip.\n"
          ]
        }
      ],
      "source": [
        "!pip install nltk"
      ]
    },
    {
      "cell_type": "code",
      "execution_count": 51,
      "metadata": {},
      "outputs": [],
      "source": [
        "import nltk\n",
        "from nltk.tokenize import word_tokenize"
      ]
    },
    {
      "cell_type": "code",
      "execution_count": 52,
      "metadata": {},
      "outputs": [
        {
          "name": "stderr",
          "output_type": "stream",
          "text": [
            "[nltk_data] Error loading punkt: <urlopen error [SSL:\n",
            "[nltk_data]     CERTIFICATE_VERIFY_FAILED] certificate verify failed:\n",
            "[nltk_data]     self signed certificate in certificate chain\n",
            "[nltk_data]     (_ssl.c:997)>\n"
          ]
        },
        {
          "data": {
            "text/plain": [
              "False"
            ]
          },
          "execution_count": 52,
          "metadata": {},
          "output_type": "execute_result"
        }
      ],
      "source": [
        "nltk.download('punkt')"
      ]
    },
    {
      "cell_type": "code",
      "execution_count": 53,
      "metadata": {},
      "outputs": [],
      "source": [
        "# import nltk\n",
        "# from nltk.tokenize import word_tokenize\n",
        "\n",
        "# Tokenize the title and description columns\n",
        "df['title_tokens'] = df['TITLE'].apply(word_tokenize)\n",
        "# df['bullet_tokens'] = df['BULLET_POINTS'].apply(word_tokenize)\n",
        "\n",
        "# Extract the number of words and characters in each text column\n",
        "df['title_word_count'] = df['title_tokens'].apply(len)\n",
        "df['title_char_count'] = df['TITLE'].apply(len)\n",
        "# df['bullet_word_count'] = df['bullet_tokens'].apply(len)\n",
        "# df['bullet_char_count'] = df['BULLET_POINTS'].apply(len)\n",
        "\n",
        "# Extract the number of bullet points\n",
        "# df['bullet_point_count'] = df['BULLET_POINTS'].str.count('\\n') + 1\n",
        "\n",
        "# Convert product type ID to categorical variable\n",
        "df['PRODUCT_TYPE_ID'] = df['PRODUCT_TYPE_ID'].astype('category')\n",
        "\n",
        "# # Extract the length of the product    \n",
        "# df['PRODUCT_LENGTH_cm'] = df['PRODUCT_LENGTH'] * 2.54 # Convert from inches to cm\n",
        "\n",
        "# Drop the original text columns and any other unnecessary columns\n",
        "# df = df.drop(columns=['TITLE', 'DESCRIPTION', 'BULLET_POINTS', 'PRODUCT_LENGTH'])\n",
        "df = df.drop(columns=['TITLE'])\n",
        "\n",
        "# Save the preprocessed data\n",
        "# df.to_csv('preprocessed_data.csv', index=False)"
      ]
    },
    {
      "cell_type": "code",
      "execution_count": 54,
      "metadata": {},
      "outputs": [],
      "source": [
        "# # import nltk\n",
        "# # from nltk.tokenize import word_tokenize\n",
        "\n",
        "# # Tokenize the title and description columns\n",
        "# # df['title_tokens'] = df['TITLE'].apply(word_tokenize)\n",
        "# df['bullet_tokens'] = df['BULLET_POINTS'].apply(word_tokenize)\n",
        "\n",
        "# # Extract the number of words and characters in each text column\n",
        "# # df['title_word_count'] = df['title_tokens'].apply(len)\n",
        "# # df['title_char_count'] = df['TITLE'].apply(len)\n",
        "# df['bullet_word_count'] = df['bullet_tokens'].apply(len)\n",
        "# df['bullet_char_count'] = df['BULLET_POINTS'].apply(len)\n",
        "\n",
        "# # Extract the number of bullet points\n",
        "# # df['bullet_point_count'] = df['BULLET_POINTS'].str.count('\\n') + 1\n",
        "\n",
        "# # Convert product type ID to categorical variable\n",
        "# df['PRODUCT_TYPE_ID'] = df['PRODUCT_TYPE_ID'].astype('category')\n",
        "\n",
        "# # # Extract the length of the product     \n",
        "# # df['PRODUCT_LENGTH_cm'] = df['PRODUCT_LENGTH'] * 2.54 # Convert from inches to cm\n",
        "\n",
        "# # Drop the original text columns and any other unnecessary columns\n",
        "# # df = df.drop(columns=['TITLE', 'DESCRIPTION', 'BULLET_POINTS', 'PRODUCT_LENGTH'])\n",
        "# df = df.drop(columns=['BULLET_POINTS'])\n",
        "\n",
        "# # Save the preprocessed data\n",
        "# # df.to_csv('preprocessed_data.csv', index=False)"
      ]
    },
    {
      "cell_type": "code",
      "execution_count": 55,
      "metadata": {},
      "outputs": [
        {
          "data": {
            "text/html": [
              "<div>\n",
              "<style scoped>\n",
              "    .dataframe tbody tr th:only-of-type {\n",
              "        vertical-align: middle;\n",
              "    }\n",
              "\n",
              "    .dataframe tbody tr th {\n",
              "        vertical-align: top;\n",
              "    }\n",
              "\n",
              "    .dataframe thead th {\n",
              "        text-align: right;\n",
              "    }\n",
              "</style>\n",
              "<table border=\"1\" class=\"dataframe\">\n",
              "  <thead>\n",
              "    <tr style=\"text-align: right;\">\n",
              "      <th></th>\n",
              "      <th>PRODUCT_ID</th>\n",
              "      <th>BULLET_POINTS</th>\n",
              "      <th>PRODUCT_TYPE_ID</th>\n",
              "      <th>PRODUCT_LENGTH</th>\n",
              "      <th>title_tokens</th>\n",
              "      <th>title_word_count</th>\n",
              "      <th>title_char_count</th>\n",
              "    </tr>\n",
              "  </thead>\n",
              "  <tbody>\n",
              "    <tr>\n",
              "      <th>0</th>\n",
              "      <td>1925202</td>\n",
              "      <td>[LUXURIOUS &amp; APPEALING: Beautiful custom-made ...</td>\n",
              "      <td>1650</td>\n",
              "      <td>2125.980000</td>\n",
              "      <td>[ArtzFolio, Tulip, Flowers, Blackout, Curtain,...</td>\n",
              "      <td>37</td>\n",
              "      <td>164</td>\n",
              "    </tr>\n",
              "    <tr>\n",
              "      <th>1</th>\n",
              "      <td>2673191</td>\n",
              "      <td>[Harry Potter Hedwig Pyjamas (6-16 Yrs),100% c...</td>\n",
              "      <td>2755</td>\n",
              "      <td>393.700000</td>\n",
              "      <td>[Marks, &amp;, Spencer, Girls, ', Pyjama, Sets, T8...</td>\n",
              "      <td>9</td>\n",
              "      <td>59</td>\n",
              "    </tr>\n",
              "    <tr>\n",
              "      <th>2</th>\n",
              "      <td>2765088</td>\n",
              "      <td>[Loud Dual Tone Trumpet Horn, Compatible With ...</td>\n",
              "      <td>7537</td>\n",
              "      <td>748.031495</td>\n",
              "      <td>[PRIKNIK, Horn, Red, Electric, Air, Horn, Comp...</td>\n",
              "      <td>15</td>\n",
              "      <td>97</td>\n",
              "    </tr>\n",
              "    <tr>\n",
              "      <th>3</th>\n",
              "      <td>1594019</td>\n",
              "      <td>[Made By 95%cotton and 5% Lycra which gives yo...</td>\n",
              "      <td>2996</td>\n",
              "      <td>787.401574</td>\n",
              "      <td>[ALISHAH, Women, 's, Cotton, Ankle, Length, Le...</td>\n",
              "      <td>14</td>\n",
              "      <td>73</td>\n",
              "    </tr>\n",
              "    <tr>\n",
              "      <th>4</th>\n",
              "      <td>283658</td>\n",
              "      <td>None</td>\n",
              "      <td>6112</td>\n",
              "      <td>598.424000</td>\n",
              "      <td>[The, United, Empire, Loyalists, :, A, Chronic...</td>\n",
              "      <td>11</td>\n",
              "      <td>63</td>\n",
              "    </tr>\n",
              "    <tr>\n",
              "      <th>...</th>\n",
              "      <td>...</td>\n",
              "      <td>...</td>\n",
              "      <td>...</td>\n",
              "      <td>...</td>\n",
              "      <td>...</td>\n",
              "      <td>...</td>\n",
              "      <td>...</td>\n",
              "    </tr>\n",
              "    <tr>\n",
              "      <th>2249693</th>\n",
              "      <td>2422167</td>\n",
              "      <td>Material : Polyester</td>\n",
              "      <td>3009</td>\n",
              "      <td>1181.100000</td>\n",
              "      <td>[Nike, Women, 's, As, W, Ny, Df, Swsh, Hn, Kh,...</td>\n",
              "      <td>16</td>\n",
              "      <td>73</td>\n",
              "    </tr>\n",
              "    <tr>\n",
              "      <th>2249694</th>\n",
              "      <td>2766635</td>\n",
              "      <td>[❤ [Inspiration] Inspired by the Untitled Goos...</td>\n",
              "      <td>3413</td>\n",
              "      <td>125.984252</td>\n",
              "      <td>[(, 3PCS, ), Goose, Game, Cute, Cartoon, Ename...</td>\n",
              "      <td>22</td>\n",
              "      <td>118</td>\n",
              "    </tr>\n",
              "    <tr>\n",
              "      <th>2249695</th>\n",
              "      <td>1987786</td>\n",
              "      <td>[Dial size: 12 inches in diameter,Big, clear r...</td>\n",
              "      <td>1574</td>\n",
              "      <td>1200.000000</td>\n",
              "      <td>[Kangroo, Sweep, Movement, Printed, Wooden, Wa...</td>\n",
              "      <td>15</td>\n",
              "      <td>72</td>\n",
              "    </tr>\n",
              "    <tr>\n",
              "      <th>2249696</th>\n",
              "      <td>1165754</td>\n",
              "      <td>None</td>\n",
              "      <td>592</td>\n",
              "      <td>2900.000000</td>\n",
              "      <td>[Electro, Voice, EKX-BRKT15, |, Wall, Mount, B...</td>\n",
              "      <td>11</td>\n",
              "      <td>70</td>\n",
              "    </tr>\n",
              "    <tr>\n",
              "      <th>2249697</th>\n",
              "      <td>1072666</td>\n",
              "      <td>[Component Box For PN[C7360PK],4 in. Lift,Incl...</td>\n",
              "      <td>7367</td>\n",
              "      <td>2000.000000</td>\n",
              "      <td>[Skyjacker, C7360SP, Component, Box, For, PN, ...</td>\n",
              "      <td>25</td>\n",
              "      <td>117</td>\n",
              "    </tr>\n",
              "  </tbody>\n",
              "</table>\n",
              "<p>2249686 rows × 7 columns</p>\n",
              "</div>"
            ],
            "text/plain": [
              "         PRODUCT_ID                                      BULLET_POINTS  \\\n",
              "0           1925202  [LUXURIOUS & APPEALING: Beautiful custom-made ...   \n",
              "1           2673191  [Harry Potter Hedwig Pyjamas (6-16 Yrs),100% c...   \n",
              "2           2765088  [Loud Dual Tone Trumpet Horn, Compatible With ...   \n",
              "3           1594019  [Made By 95%cotton and 5% Lycra which gives yo...   \n",
              "4            283658                                               None   \n",
              "...             ...                                                ...   \n",
              "2249693     2422167                               Material : Polyester   \n",
              "2249694     2766635  [❤ [Inspiration] Inspired by the Untitled Goos...   \n",
              "2249695     1987786  [Dial size: 12 inches in diameter,Big, clear r...   \n",
              "2249696     1165754                                               None   \n",
              "2249697     1072666  [Component Box For PN[C7360PK],4 in. Lift,Incl...   \n",
              "\n",
              "        PRODUCT_TYPE_ID  PRODUCT_LENGTH  \\\n",
              "0                  1650     2125.980000   \n",
              "1                  2755      393.700000   \n",
              "2                  7537      748.031495   \n",
              "3                  2996      787.401574   \n",
              "4                  6112      598.424000   \n",
              "...                 ...             ...   \n",
              "2249693            3009     1181.100000   \n",
              "2249694            3413      125.984252   \n",
              "2249695            1574     1200.000000   \n",
              "2249696             592     2900.000000   \n",
              "2249697            7367     2000.000000   \n",
              "\n",
              "                                              title_tokens  title_word_count  \\\n",
              "0        [ArtzFolio, Tulip, Flowers, Blackout, Curtain,...                37   \n",
              "1        [Marks, &, Spencer, Girls, ', Pyjama, Sets, T8...                 9   \n",
              "2        [PRIKNIK, Horn, Red, Electric, Air, Horn, Comp...                15   \n",
              "3        [ALISHAH, Women, 's, Cotton, Ankle, Length, Le...                14   \n",
              "4        [The, United, Empire, Loyalists, :, A, Chronic...                11   \n",
              "...                                                    ...               ...   \n",
              "2249693  [Nike, Women, 's, As, W, Ny, Df, Swsh, Hn, Kh,...                16   \n",
              "2249694  [(, 3PCS, ), Goose, Game, Cute, Cartoon, Ename...                22   \n",
              "2249695  [Kangroo, Sweep, Movement, Printed, Wooden, Wa...                15   \n",
              "2249696  [Electro, Voice, EKX-BRKT15, |, Wall, Mount, B...                11   \n",
              "2249697  [Skyjacker, C7360SP, Component, Box, For, PN, ...                25   \n",
              "\n",
              "         title_char_count  \n",
              "0                     164  \n",
              "1                      59  \n",
              "2                      97  \n",
              "3                      73  \n",
              "4                      63  \n",
              "...                   ...  \n",
              "2249693                73  \n",
              "2249694               118  \n",
              "2249695                72  \n",
              "2249696                70  \n",
              "2249697               117  \n",
              "\n",
              "[2249686 rows x 7 columns]"
            ]
          },
          "execution_count": 55,
          "metadata": {},
          "output_type": "execute_result"
        }
      ],
      "source": [
        "df"
      ]
    },
    {
      "cell_type": "code",
      "execution_count": 56,
      "metadata": {},
      "outputs": [
        {
          "data": {
            "text/html": [
              "<div>\n",
              "<style scoped>\n",
              "    .dataframe tbody tr th:only-of-type {\n",
              "        vertical-align: middle;\n",
              "    }\n",
              "\n",
              "    .dataframe tbody tr th {\n",
              "        vertical-align: top;\n",
              "    }\n",
              "\n",
              "    .dataframe thead th {\n",
              "        text-align: right;\n",
              "    }\n",
              "</style>\n",
              "<table border=\"1\" class=\"dataframe\">\n",
              "  <thead>\n",
              "    <tr style=\"text-align: right;\">\n",
              "      <th></th>\n",
              "      <th>PRODUCT_TYPE_ID</th>\n",
              "      <th>title_word_count</th>\n",
              "      <th>title_char_count</th>\n",
              "    </tr>\n",
              "  </thead>\n",
              "  <tbody>\n",
              "    <tr>\n",
              "      <th>0</th>\n",
              "      <td>1650</td>\n",
              "      <td>37</td>\n",
              "      <td>164</td>\n",
              "    </tr>\n",
              "    <tr>\n",
              "      <th>1</th>\n",
              "      <td>2755</td>\n",
              "      <td>9</td>\n",
              "      <td>59</td>\n",
              "    </tr>\n",
              "    <tr>\n",
              "      <th>2</th>\n",
              "      <td>7537</td>\n",
              "      <td>15</td>\n",
              "      <td>97</td>\n",
              "    </tr>\n",
              "    <tr>\n",
              "      <th>3</th>\n",
              "      <td>2996</td>\n",
              "      <td>14</td>\n",
              "      <td>73</td>\n",
              "    </tr>\n",
              "    <tr>\n",
              "      <th>4</th>\n",
              "      <td>6112</td>\n",
              "      <td>11</td>\n",
              "      <td>63</td>\n",
              "    </tr>\n",
              "    <tr>\n",
              "      <th>...</th>\n",
              "      <td>...</td>\n",
              "      <td>...</td>\n",
              "      <td>...</td>\n",
              "    </tr>\n",
              "    <tr>\n",
              "      <th>2249693</th>\n",
              "      <td>3009</td>\n",
              "      <td>16</td>\n",
              "      <td>73</td>\n",
              "    </tr>\n",
              "    <tr>\n",
              "      <th>2249694</th>\n",
              "      <td>3413</td>\n",
              "      <td>22</td>\n",
              "      <td>118</td>\n",
              "    </tr>\n",
              "    <tr>\n",
              "      <th>2249695</th>\n",
              "      <td>1574</td>\n",
              "      <td>15</td>\n",
              "      <td>72</td>\n",
              "    </tr>\n",
              "    <tr>\n",
              "      <th>2249696</th>\n",
              "      <td>592</td>\n",
              "      <td>11</td>\n",
              "      <td>70</td>\n",
              "    </tr>\n",
              "    <tr>\n",
              "      <th>2249697</th>\n",
              "      <td>7367</td>\n",
              "      <td>25</td>\n",
              "      <td>117</td>\n",
              "    </tr>\n",
              "  </tbody>\n",
              "</table>\n",
              "<p>2249686 rows × 3 columns</p>\n",
              "</div>"
            ],
            "text/plain": [
              "        PRODUCT_TYPE_ID  title_word_count  title_char_count\n",
              "0                  1650                37               164\n",
              "1                  2755                 9                59\n",
              "2                  7537                15                97\n",
              "3                  2996                14                73\n",
              "4                  6112                11                63\n",
              "...                 ...               ...               ...\n",
              "2249693            3009                16                73\n",
              "2249694            3413                22               118\n",
              "2249695            1574                15                72\n",
              "2249696             592                11                70\n",
              "2249697            7367                25               117\n",
              "\n",
              "[2249686 rows x 3 columns]"
            ]
          },
          "execution_count": 56,
          "metadata": {},
          "output_type": "execute_result"
        }
      ],
      "source": [
        "# X_train = df[['PRODUCT_TYPE_ID','title_word_count','title_char_count','bullet_word_count','bullet_char_count']]\n",
        "X_train = df[['PRODUCT_TYPE_ID','title_word_count','title_char_count']]\n",
        "X_train"
      ]
    },
    {
      "attachments": {},
      "cell_type": "markdown",
      "metadata": {},
      "source": [
        "#FOR TESTING"
      ]
    },
    {
      "cell_type": "code",
      "execution_count": 57,
      "metadata": {},
      "outputs": [],
      "source": [
        "# import nltk\n",
        "# from nltk.tokenize import word_tokenize\n",
        "\n",
        "# Tokenize the title and description columns\n",
        "test_df['title_tokens'] = test_df['TITLE'].apply(word_tokenize)\n",
        "# test_df['bullet_tokens'] = test_df['BULLET_POINTS'].apply(word_tokenize)\n",
        "\n",
        "# Extract the number of words and characters in each text column\n",
        "test_df['title_word_count'] = test_df['title_tokens'].apply(len)\n",
        "test_df['title_char_count'] = test_df['TITLE'].apply(len)\n",
        "# test_df['bullet_word_count'] = test_df['bullet_tokens'].apply(len)\n",
        "# test_df['bullet_char_count'] = test_df['BULLET_POINTS'].apply(len)\n",
        "\n",
        "# Extract the number of bullet points\n",
        "# test_df['bullet_point_count'] = test_df['BULLET_POINTS'].str.count('\\n') + 1\n",
        "\n",
        "# Convert product type ID to categorical variable\n",
        "test_df['PRODUCT_TYPE_ID'] = test_df['PRODUCT_TYPE_ID'].astype('category')\n",
        "\n",
        "# # Extract the length of the product     \n",
        "# test_df['PRODUCT_LENGTH_cm'] = test_df['PRODUCT_LENGTH'] * 2.54 # Convert from inches to cm\n",
        "\n",
        "# Drop the original text columns and any other unnecessary columns\n",
        "# test_df = test_df.drop(columns=['TITLE', 'DESCRIPTION', 'BULLET_POINTS', 'PRODUCT_LENGTH'])\n",
        "test_df = test_df.drop(columns=['TITLE'])\n",
        "\n",
        "# Save the preprocessed data\n",
        "# test_df.to_csv('preprocessed_data.csv', index=False)"
      ]
    },
    {
      "cell_type": "code",
      "execution_count": 58,
      "metadata": {},
      "outputs": [],
      "source": [
        "# # import nltk\n",
        "# # from nltk.tokenize import word_tokenize\n",
        "\n",
        "# # Tokenize the title and description columns\n",
        "# # df['title_tokens'] = df['TITLE'].apply(word_tokenize)\n",
        "# test_df['bullet_tokens'] = test_df['BULLET_POINTS'].apply(word_tokenize)\n",
        "\n",
        "# # Extract the number of words and characters in each text column\n",
        "# # test_df['title_word_count'] = test_df['title_tokens'].apply(len)\n",
        "# # test_df['title_char_count'] = test_df['TITLE'].apply(len)\n",
        "# test_df['bullet_word_count'] = test_df['bullet_tokens'].apply(len)\n",
        "# test_df['bullet_char_count'] = test_df['BULLET_POINTS'].apply(len)\n",
        "\n",
        "# # Extract the number of bullet points\n",
        "# # test_df['bullet_point_count'] = test_df['BULLET_POINTS'].str.count('\\n') + 1\n",
        "\n",
        "# # Convert product type ID to categorical variable\n",
        "# test_df['PRODUCT_TYPE_ID'] = test_df['PRODUCT_TYPE_ID'].astype('category')\n",
        "\n",
        "# # # Extract the length of the product     #\n",
        "# # test_df['PRODUCT_LENGTH_cm'] = test_df['PRODUCT_LENGTH'] * 2.54 # Convert from inches to cm\n",
        "\n",
        "# # Drop the original text columns and any other unnecessary columns\n",
        "# # test_df = test_df.drop(columns=['TITLE', 'DESCRIPTION', 'BULLET_POINTS', 'PRODUCT_LENGTH'])\n",
        "# test_df = test_df.drop(columns=['BULLET_POINTS'])\n",
        "\n",
        "# # Save the preprocessed data\n",
        "# # test_df.to_csv('preprocessed_data.csv', index=False)"
      ]
    },
    {
      "cell_type": "code",
      "execution_count": 60,
      "metadata": {},
      "outputs": [
        {
          "data": {
            "text/html": [
              "<div>\n",
              "<style scoped>\n",
              "    .dataframe tbody tr th:only-of-type {\n",
              "        vertical-align: middle;\n",
              "    }\n",
              "\n",
              "    .dataframe tbody tr th {\n",
              "        vertical-align: top;\n",
              "    }\n",
              "\n",
              "    .dataframe thead th {\n",
              "        text-align: right;\n",
              "    }\n",
              "</style>\n",
              "<table border=\"1\" class=\"dataframe\">\n",
              "  <thead>\n",
              "    <tr style=\"text-align: right;\">\n",
              "      <th></th>\n",
              "      <th>PRODUCT_TYPE_ID</th>\n",
              "      <th>title_word_count</th>\n",
              "      <th>title_char_count</th>\n",
              "    </tr>\n",
              "  </thead>\n",
              "  <tbody>\n",
              "    <tr>\n",
              "      <th>0</th>\n",
              "      <td>6142</td>\n",
              "      <td>15</td>\n",
              "      <td>84</td>\n",
              "    </tr>\n",
              "    <tr>\n",
              "      <th>1</th>\n",
              "      <td>1622</td>\n",
              "      <td>28</td>\n",
              "      <td>184</td>\n",
              "    </tr>\n",
              "    <tr>\n",
              "      <th>2</th>\n",
              "      <td>7540</td>\n",
              "      <td>19</td>\n",
              "      <td>143</td>\n",
              "    </tr>\n",
              "    <tr>\n",
              "      <th>3</th>\n",
              "      <td>12442</td>\n",
              "      <td>11</td>\n",
              "      <td>64</td>\n",
              "    </tr>\n",
              "    <tr>\n",
              "      <th>4</th>\n",
              "      <td>6318</td>\n",
              "      <td>10</td>\n",
              "      <td>58</td>\n",
              "    </tr>\n",
              "    <tr>\n",
              "      <th>...</th>\n",
              "      <td>...</td>\n",
              "      <td>...</td>\n",
              "      <td>...</td>\n",
              "    </tr>\n",
              "    <tr>\n",
              "      <th>734731</th>\n",
              "      <td>7073</td>\n",
              "      <td>12</td>\n",
              "      <td>54</td>\n",
              "    </tr>\n",
              "    <tr>\n",
              "      <th>734732</th>\n",
              "      <td>1</td>\n",
              "      <td>12</td>\n",
              "      <td>71</td>\n",
              "    </tr>\n",
              "    <tr>\n",
              "      <th>734733</th>\n",
              "      <td>10645</td>\n",
              "      <td>10</td>\n",
              "      <td>67</td>\n",
              "    </tr>\n",
              "    <tr>\n",
              "      <th>734734</th>\n",
              "      <td>12680</td>\n",
              "      <td>15</td>\n",
              "      <td>113</td>\n",
              "    </tr>\n",
              "    <tr>\n",
              "      <th>734735</th>\n",
              "      <td>0</td>\n",
              "      <td>14</td>\n",
              "      <td>108</td>\n",
              "    </tr>\n",
              "  </tbody>\n",
              "</table>\n",
              "<p>734736 rows × 3 columns</p>\n",
              "</div>"
            ],
            "text/plain": [
              "       PRODUCT_TYPE_ID  title_word_count  title_char_count\n",
              "0                 6142                15                84\n",
              "1                 1622                28               184\n",
              "2                 7540                19               143\n",
              "3                12442                11                64\n",
              "4                 6318                10                58\n",
              "...                ...               ...               ...\n",
              "734731            7073                12                54\n",
              "734732               1                12                71\n",
              "734733           10645                10                67\n",
              "734734           12680                15               113\n",
              "734735               0                14               108\n",
              "\n",
              "[734736 rows x 3 columns]"
            ]
          },
          "execution_count": 60,
          "metadata": {},
          "output_type": "execute_result"
        }
      ],
      "source": [
        "# X_test= df[['PRODUCT_TYPE_ID','title_word_count','title_char_count','bullet_word_count','bullet_char_count']]\n",
        "X_test= test_df[['PRODUCT_TYPE_ID','title_word_count','title_char_count']]\n",
        "\n",
        "X_test"
      ]
    },
    {
      "cell_type": "code",
      "execution_count": 61,
      "metadata": {},
      "outputs": [],
      "source": [
        "from sklearn.linear_model import LinearRegression"
      ]
    },
    {
      "cell_type": "code",
      "execution_count": 62,
      "metadata": {},
      "outputs": [],
      "source": [
        "# Define the target variable\n",
        "y_train = df['PRODUCT_LENGTH']\n",
        "\n",
        "# Train a linear regression model\n",
        "model = LinearRegression()\n",
        "model.fit(X_train, y_train)\n",
        "\n",
        "# Make predictions on the validation set\n",
        "y_pred = model.predict(X_test)"
      ]
    },
    {
      "cell_type": "code",
      "execution_count": 68,
      "metadata": {},
      "outputs": [
        {
          "data": {
            "text/plain": [
              "(734736,)"
            ]
          },
          "execution_count": 68,
          "metadata": {},
          "output_type": "execute_result"
        }
      ],
      "source": [
        "y_pred.shape"
      ]
    },
    {
      "cell_type": "code",
      "execution_count": 69,
      "metadata": {},
      "outputs": [
        {
          "data": {
            "text/plain": [
              "(734736, 6)"
            ]
          },
          "execution_count": 69,
          "metadata": {},
          "output_type": "execute_result"
        }
      ],
      "source": [
        "test_df.shape"
      ]
    },
    {
      "cell_type": "code",
      "execution_count": 65,
      "metadata": {},
      "outputs": [
        {
          "data": {
            "text/plain": [
              "(734736, 3)"
            ]
          },
          "execution_count": 65,
          "metadata": {},
          "output_type": "execute_result"
        }
      ],
      "source": [
        "X_test.shape"
      ]
    },
    {
      "cell_type": "code",
      "execution_count": 70,
      "metadata": {},
      "outputs": [
        {
          "data": {
            "text/html": [
              "<div>\n",
              "<style scoped>\n",
              "    .dataframe tbody tr th:only-of-type {\n",
              "        vertical-align: middle;\n",
              "    }\n",
              "\n",
              "    .dataframe tbody tr th {\n",
              "        vertical-align: top;\n",
              "    }\n",
              "\n",
              "    .dataframe thead th {\n",
              "        text-align: right;\n",
              "    }\n",
              "</style>\n",
              "<table border=\"1\" class=\"dataframe\">\n",
              "  <thead>\n",
              "    <tr style=\"text-align: right;\">\n",
              "      <th></th>\n",
              "      <th>PRODUCT_ID</th>\n",
              "      <th>BULLET_POINTS</th>\n",
              "      <th>PRODUCT_TYPE_ID</th>\n",
              "      <th>title_tokens</th>\n",
              "      <th>title_word_count</th>\n",
              "      <th>title_char_count</th>\n",
              "    </tr>\n",
              "  </thead>\n",
              "  <tbody>\n",
              "    <tr>\n",
              "      <th>0</th>\n",
              "      <td>604373</td>\n",
              "      <td>None</td>\n",
              "      <td>6142</td>\n",
              "      <td>[Manuel, d'Héliogravure, Et, de, Photogravure,...</td>\n",
              "      <td>15</td>\n",
              "      <td>84</td>\n",
              "    </tr>\n",
              "    <tr>\n",
              "      <th>1</th>\n",
              "      <td>1729783</td>\n",
              "      <td>[QUALITY GUARANTEED: Luxury cozy plush polyest...</td>\n",
              "      <td>1622</td>\n",
              "      <td>[DCGARING, Microfiber, Throw, Blanket, Warm, F...</td>\n",
              "      <td>28</td>\n",
              "      <td>184</td>\n",
              "    </tr>\n",
              "    <tr>\n",
              "      <th>2</th>\n",
              "      <td>1871949</td>\n",
              "      <td>[Front License Plate Bracket Made Of Plastic,D...</td>\n",
              "      <td>7540</td>\n",
              "      <td>[I-Match, Auto, Parts, Front, License, Plate, ...</td>\n",
              "      <td>19</td>\n",
              "      <td>143</td>\n",
              "    </tr>\n",
              "    <tr>\n",
              "      <th>3</th>\n",
              "      <td>1107571</td>\n",
              "      <td>[Available as a single item or bulk packed. Se...</td>\n",
              "      <td>12442</td>\n",
              "      <td>[PinMart, Gold, Plated, Excellence, in, Servic...</td>\n",
              "      <td>11</td>\n",
              "      <td>64</td>\n",
              "    </tr>\n",
              "    <tr>\n",
              "      <th>4</th>\n",
              "      <td>624253</td>\n",
              "      <td>None</td>\n",
              "      <td>6318</td>\n",
              "      <td>[Visual, Mathematics, ,, Illustrated, by, the,...</td>\n",
              "      <td>10</td>\n",
              "      <td>58</td>\n",
              "    </tr>\n",
              "    <tr>\n",
              "      <th>...</th>\n",
              "      <td>...</td>\n",
              "      <td>...</td>\n",
              "      <td>...</td>\n",
              "      <td>...</td>\n",
              "      <td>...</td>\n",
              "      <td>...</td>\n",
              "    </tr>\n",
              "    <tr>\n",
              "      <th>734731</th>\n",
              "      <td>921419</td>\n",
              "      <td>[Brightly colored pet sweatshirts with authent...</td>\n",
              "      <td>7073</td>\n",
              "      <td>[Casual, Canine, Basic, Hoodie, for, Dogs, ,, ...</td>\n",
              "      <td>12</td>\n",
              "      <td>54</td>\n",
              "    </tr>\n",
              "    <tr>\n",
              "      <th>734732</th>\n",
              "      <td>2456362</td>\n",
              "      <td>None</td>\n",
              "      <td>1</td>\n",
              "      <td>[Dive, Log, Book, :, Scuba, Diving, Logbook, f...</td>\n",
              "      <td>12</td>\n",
              "      <td>71</td>\n",
              "    </tr>\n",
              "    <tr>\n",
              "      <th>734733</th>\n",
              "      <td>841529</td>\n",
              "      <td>[8-Inch centers,1/2-Inch IPS inlets,9-Inch spo...</td>\n",
              "      <td>10645</td>\n",
              "      <td>[Axor, 39135001, Citterio, Widespread, Faucet,...</td>\n",
              "      <td>10</td>\n",
              "      <td>67</td>\n",
              "    </tr>\n",
              "    <tr>\n",
              "      <th>734734</th>\n",
              "      <td>1190194</td>\n",
              "      <td>[Indoor or outdoor aluminum artwork prints,8 i...</td>\n",
              "      <td>12680</td>\n",
              "      <td>[Caroline, 's, Treasures, BB1801DS812, Hallowe...</td>\n",
              "      <td>15</td>\n",
              "      <td>113</td>\n",
              "    </tr>\n",
              "    <tr>\n",
              "      <th>734735</th>\n",
              "      <td>1040810</td>\n",
              "      <td>[Engineered and Manufactured Under European St...</td>\n",
              "      <td>0</td>\n",
              "      <td>[Amsahr, 18C1623, Lexmark, X3530, Remanufactur...</td>\n",
              "      <td>14</td>\n",
              "      <td>108</td>\n",
              "    </tr>\n",
              "  </tbody>\n",
              "</table>\n",
              "<p>734736 rows × 6 columns</p>\n",
              "</div>"
            ],
            "text/plain": [
              "        PRODUCT_ID                                      BULLET_POINTS  \\\n",
              "0           604373                                               None   \n",
              "1          1729783  [QUALITY GUARANTEED: Luxury cozy plush polyest...   \n",
              "2          1871949  [Front License Plate Bracket Made Of Plastic,D...   \n",
              "3          1107571  [Available as a single item or bulk packed. Se...   \n",
              "4           624253                                               None   \n",
              "...            ...                                                ...   \n",
              "734731      921419  [Brightly colored pet sweatshirts with authent...   \n",
              "734732     2456362                                               None   \n",
              "734733      841529  [8-Inch centers,1/2-Inch IPS inlets,9-Inch spo...   \n",
              "734734     1190194  [Indoor or outdoor aluminum artwork prints,8 i...   \n",
              "734735     1040810  [Engineered and Manufactured Under European St...   \n",
              "\n",
              "       PRODUCT_TYPE_ID                                       title_tokens  \\\n",
              "0                 6142  [Manuel, d'Héliogravure, Et, de, Photogravure,...   \n",
              "1                 1622  [DCGARING, Microfiber, Throw, Blanket, Warm, F...   \n",
              "2                 7540  [I-Match, Auto, Parts, Front, License, Plate, ...   \n",
              "3                12442  [PinMart, Gold, Plated, Excellence, in, Servic...   \n",
              "4                 6318  [Visual, Mathematics, ,, Illustrated, by, the,...   \n",
              "...                ...                                                ...   \n",
              "734731            7073  [Casual, Canine, Basic, Hoodie, for, Dogs, ,, ...   \n",
              "734732               1  [Dive, Log, Book, :, Scuba, Diving, Logbook, f...   \n",
              "734733           10645  [Axor, 39135001, Citterio, Widespread, Faucet,...   \n",
              "734734           12680  [Caroline, 's, Treasures, BB1801DS812, Hallowe...   \n",
              "734735               0  [Amsahr, 18C1623, Lexmark, X3530, Remanufactur...   \n",
              "\n",
              "        title_word_count  title_char_count  \n",
              "0                     15                84  \n",
              "1                     28               184  \n",
              "2                     19               143  \n",
              "3                     11                64  \n",
              "4                     10                58  \n",
              "...                  ...               ...  \n",
              "734731                12                54  \n",
              "734732                12                71  \n",
              "734733                10                67  \n",
              "734734                15               113  \n",
              "734735                14               108  \n",
              "\n",
              "[734736 rows x 6 columns]"
            ]
          },
          "execution_count": 70,
          "metadata": {},
          "output_type": "execute_result"
        }
      ],
      "source": [
        "result = test_df.copy()\n",
        "# result"
      ]
    },
    {
      "cell_type": "code",
      "execution_count": 71,
      "metadata": {},
      "outputs": [],
      "source": [
        "result['PRODUCT_LENGTH'] = y_pred"
      ]
    },
    {
      "cell_type": "code",
      "execution_count": 73,
      "metadata": {},
      "outputs": [
        {
          "data": {
            "text/html": [
              "<div>\n",
              "<style scoped>\n",
              "    .dataframe tbody tr th:only-of-type {\n",
              "        vertical-align: middle;\n",
              "    }\n",
              "\n",
              "    .dataframe tbody tr th {\n",
              "        vertical-align: top;\n",
              "    }\n",
              "\n",
              "    .dataframe thead th {\n",
              "        text-align: right;\n",
              "    }\n",
              "</style>\n",
              "<table border=\"1\" class=\"dataframe\">\n",
              "  <thead>\n",
              "    <tr style=\"text-align: right;\">\n",
              "      <th></th>\n",
              "      <th>PRODUCT_ID</th>\n",
              "      <th>PRODUCT_LENGTH</th>\n",
              "    </tr>\n",
              "  </thead>\n",
              "  <tbody>\n",
              "    <tr>\n",
              "      <th>0</th>\n",
              "      <td>604373</td>\n",
              "      <td>4759.447187</td>\n",
              "    </tr>\n",
              "    <tr>\n",
              "      <th>1</th>\n",
              "      <td>1729783</td>\n",
              "      <td>1227.832226</td>\n",
              "    </tr>\n",
              "    <tr>\n",
              "      <th>2</th>\n",
              "      <td>1871949</td>\n",
              "      <td>2952.854949</td>\n",
              "    </tr>\n",
              "    <tr>\n",
              "      <th>3</th>\n",
              "      <td>1107571</td>\n",
              "      <td>6900.980257</td>\n",
              "    </tr>\n",
              "    <tr>\n",
              "      <th>4</th>\n",
              "      <td>624253</td>\n",
              "      <td>4834.142430</td>\n",
              "    </tr>\n",
              "    <tr>\n",
              "      <th>...</th>\n",
              "      <td>...</td>\n",
              "      <td>...</td>\n",
              "    </tr>\n",
              "    <tr>\n",
              "      <th>734731</th>\n",
              "      <td>921419</td>\n",
              "      <td>5948.689680</td>\n",
              "    </tr>\n",
              "    <tr>\n",
              "      <th>734732</th>\n",
              "      <td>2456362</td>\n",
              "      <td>2489.438514</td>\n",
              "    </tr>\n",
              "    <tr>\n",
              "      <th>734733</th>\n",
              "      <td>841529</td>\n",
              "      <td>5793.267920</td>\n",
              "    </tr>\n",
              "    <tr>\n",
              "      <th>734734</th>\n",
              "      <td>1190194</td>\n",
              "      <td>5289.887567</td>\n",
              "    </tr>\n",
              "    <tr>\n",
              "      <th>734735</th>\n",
              "      <td>1040810</td>\n",
              "      <td>896.700835</td>\n",
              "    </tr>\n",
              "  </tbody>\n",
              "</table>\n",
              "<p>734736 rows × 2 columns</p>\n",
              "</div>"
            ],
            "text/plain": [
              "        PRODUCT_ID  PRODUCT_LENGTH\n",
              "0           604373     4759.447187\n",
              "1          1729783     1227.832226\n",
              "2          1871949     2952.854949\n",
              "3          1107571     6900.980257\n",
              "4           624253     4834.142430\n",
              "...            ...             ...\n",
              "734731      921419     5948.689680\n",
              "734732     2456362     2489.438514\n",
              "734733      841529     5793.267920\n",
              "734734     1190194     5289.887567\n",
              "734735     1040810      896.700835\n",
              "\n",
              "[734736 rows x 2 columns]"
            ]
          },
          "execution_count": 73,
          "metadata": {},
          "output_type": "execute_result"
        }
      ],
      "source": [
        "result = result.drop(['title_tokens','BULLET_POINTS','PRODUCT_TYPE_ID','title_word_count','title_char_count'], axis=1)\n",
        "result"
      ]
    },
    {
      "cell_type": "code",
      "execution_count": 77,
      "metadata": {},
      "outputs": [],
      "source": [
        "answer = result[['PRODUCT_ID','PRODUCT_LENGTH']].copy()\n",
        "answer.to_csv('AMAZON_PREDICTED__DATA.csv')"
      ]
    },
    {
      "cell_type": "code",
      "execution_count": 75,
      "metadata": {},
      "outputs": [
        {
          "ename": "IndexError",
          "evalue": "boolean index did not match indexed array along dimension 0; dimension is 50001 but corresponding boolean dimension is 50000",
          "output_type": "error",
          "traceback": [
            "\u001b[1;31m---------------------------------------------------------------------------\u001b[0m",
            "\u001b[1;31mIndexError\u001b[0m                                Traceback (most recent call last)",
            "\u001b[1;32md:\\DAIICT\\SEMESTER_2\\ML_CHALLENGE\\amazon_ml_challenge.ipynb Cell 35\u001b[0m in \u001b[0;36m<cell line: 1>\u001b[1;34m()\u001b[0m\n\u001b[1;32m----> <a href='vscode-notebook-cell:/d%3A/DAIICT/SEMESTER_2/ML_CHALLENGE/amazon_ml_challenge.ipynb#X35sZmlsZQ%3D%3D?line=0'>1</a>\u001b[0m result\u001b[39m.\u001b[39;49mto_csv(\u001b[39m'\u001b[39;49m\u001b[39mAMAZON_PREDICTED__DATA.csv\u001b[39;49m\u001b[39m'\u001b[39;49m, index\u001b[39m=\u001b[39;49m\u001b[39mTrue\u001b[39;49;00m)\n",
            "File \u001b[1;32m~\\AppData\\Roaming\\Python\\Python310\\site-packages\\pandas\\core\\generic.py:3551\u001b[0m, in \u001b[0;36mNDFrame.to_csv\u001b[1;34m(self, path_or_buf, sep, na_rep, float_format, columns, header, index, index_label, mode, encoding, compression, quoting, quotechar, line_terminator, chunksize, date_format, doublequote, escapechar, decimal, errors, storage_options)\u001b[0m\n\u001b[0;32m   3540\u001b[0m df \u001b[39m=\u001b[39m \u001b[39mself\u001b[39m \u001b[39mif\u001b[39;00m \u001b[39misinstance\u001b[39m(\u001b[39mself\u001b[39m, ABCDataFrame) \u001b[39melse\u001b[39;00m \u001b[39mself\u001b[39m\u001b[39m.\u001b[39mto_frame()\n\u001b[0;32m   3542\u001b[0m formatter \u001b[39m=\u001b[39m DataFrameFormatter(\n\u001b[0;32m   3543\u001b[0m     frame\u001b[39m=\u001b[39mdf,\n\u001b[0;32m   3544\u001b[0m     header\u001b[39m=\u001b[39mheader,\n\u001b[1;32m   (...)\u001b[0m\n\u001b[0;32m   3548\u001b[0m     decimal\u001b[39m=\u001b[39mdecimal,\n\u001b[0;32m   3549\u001b[0m )\n\u001b[1;32m-> 3551\u001b[0m \u001b[39mreturn\u001b[39;00m DataFrameRenderer(formatter)\u001b[39m.\u001b[39;49mto_csv(\n\u001b[0;32m   3552\u001b[0m     path_or_buf,\n\u001b[0;32m   3553\u001b[0m     line_terminator\u001b[39m=\u001b[39;49mline_terminator,\n\u001b[0;32m   3554\u001b[0m     sep\u001b[39m=\u001b[39;49msep,\n\u001b[0;32m   3555\u001b[0m     encoding\u001b[39m=\u001b[39;49mencoding,\n\u001b[0;32m   3556\u001b[0m     errors\u001b[39m=\u001b[39;49merrors,\n\u001b[0;32m   3557\u001b[0m     compression\u001b[39m=\u001b[39;49mcompression,\n\u001b[0;32m   3558\u001b[0m     quoting\u001b[39m=\u001b[39;49mquoting,\n\u001b[0;32m   3559\u001b[0m     columns\u001b[39m=\u001b[39;49mcolumns,\n\u001b[0;32m   3560\u001b[0m     index_label\u001b[39m=\u001b[39;49mindex_label,\n\u001b[0;32m   3561\u001b[0m     mode\u001b[39m=\u001b[39;49mmode,\n\u001b[0;32m   3562\u001b[0m     chunksize\u001b[39m=\u001b[39;49mchunksize,\n\u001b[0;32m   3563\u001b[0m     quotechar\u001b[39m=\u001b[39;49mquotechar,\n\u001b[0;32m   3564\u001b[0m     date_format\u001b[39m=\u001b[39;49mdate_format,\n\u001b[0;32m   3565\u001b[0m     doublequote\u001b[39m=\u001b[39;49mdoublequote,\n\u001b[0;32m   3566\u001b[0m     escapechar\u001b[39m=\u001b[39;49mescapechar,\n\u001b[0;32m   3567\u001b[0m     storage_options\u001b[39m=\u001b[39;49mstorage_options,\n\u001b[0;32m   3568\u001b[0m )\n",
            "File \u001b[1;32m~\\AppData\\Roaming\\Python\\Python310\\site-packages\\pandas\\io\\formats\\format.py:1180\u001b[0m, in \u001b[0;36mDataFrameRenderer.to_csv\u001b[1;34m(self, path_or_buf, encoding, sep, columns, index_label, mode, compression, quoting, quotechar, line_terminator, chunksize, date_format, doublequote, escapechar, errors, storage_options)\u001b[0m\n\u001b[0;32m   1159\u001b[0m     created_buffer \u001b[39m=\u001b[39m \u001b[39mFalse\u001b[39;00m\n\u001b[0;32m   1161\u001b[0m csv_formatter \u001b[39m=\u001b[39m CSVFormatter(\n\u001b[0;32m   1162\u001b[0m     path_or_buf\u001b[39m=\u001b[39mpath_or_buf,\n\u001b[0;32m   1163\u001b[0m     line_terminator\u001b[39m=\u001b[39mline_terminator,\n\u001b[1;32m   (...)\u001b[0m\n\u001b[0;32m   1178\u001b[0m     formatter\u001b[39m=\u001b[39m\u001b[39mself\u001b[39m\u001b[39m.\u001b[39mfmt,\n\u001b[0;32m   1179\u001b[0m )\n\u001b[1;32m-> 1180\u001b[0m csv_formatter\u001b[39m.\u001b[39;49msave()\n\u001b[0;32m   1182\u001b[0m \u001b[39mif\u001b[39;00m created_buffer:\n\u001b[0;32m   1183\u001b[0m     \u001b[39massert\u001b[39;00m \u001b[39misinstance\u001b[39m(path_or_buf, StringIO)\n",
            "File \u001b[1;32m~\\AppData\\Roaming\\Python\\Python310\\site-packages\\pandas\\io\\formats\\csvs.py:261\u001b[0m, in \u001b[0;36mCSVFormatter.save\u001b[1;34m(self)\u001b[0m\n\u001b[0;32m    241\u001b[0m \u001b[39mwith\u001b[39;00m get_handle(\n\u001b[0;32m    242\u001b[0m     \u001b[39mself\u001b[39m\u001b[39m.\u001b[39mfilepath_or_buffer,\n\u001b[0;32m    243\u001b[0m     \u001b[39mself\u001b[39m\u001b[39m.\u001b[39mmode,\n\u001b[1;32m   (...)\u001b[0m\n\u001b[0;32m    249\u001b[0m \n\u001b[0;32m    250\u001b[0m     \u001b[39m# Note: self.encoding is irrelevant here\u001b[39;00m\n\u001b[0;32m    251\u001b[0m     \u001b[39mself\u001b[39m\u001b[39m.\u001b[39mwriter \u001b[39m=\u001b[39m csvlib\u001b[39m.\u001b[39mwriter(\n\u001b[0;32m    252\u001b[0m         handles\u001b[39m.\u001b[39mhandle,\n\u001b[0;32m    253\u001b[0m         lineterminator\u001b[39m=\u001b[39m\u001b[39mself\u001b[39m\u001b[39m.\u001b[39mline_terminator,\n\u001b[1;32m   (...)\u001b[0m\n\u001b[0;32m    258\u001b[0m         quotechar\u001b[39m=\u001b[39m\u001b[39mself\u001b[39m\u001b[39m.\u001b[39mquotechar,\n\u001b[0;32m    259\u001b[0m     )\n\u001b[1;32m--> 261\u001b[0m     \u001b[39mself\u001b[39;49m\u001b[39m.\u001b[39;49m_save()\n",
            "File \u001b[1;32m~\\AppData\\Roaming\\Python\\Python310\\site-packages\\pandas\\io\\formats\\csvs.py:266\u001b[0m, in \u001b[0;36mCSVFormatter._save\u001b[1;34m(self)\u001b[0m\n\u001b[0;32m    264\u001b[0m \u001b[39mif\u001b[39;00m \u001b[39mself\u001b[39m\u001b[39m.\u001b[39m_need_to_save_header:\n\u001b[0;32m    265\u001b[0m     \u001b[39mself\u001b[39m\u001b[39m.\u001b[39m_save_header()\n\u001b[1;32m--> 266\u001b[0m \u001b[39mself\u001b[39;49m\u001b[39m.\u001b[39;49m_save_body()\n",
            "File \u001b[1;32m~\\AppData\\Roaming\\Python\\Python310\\site-packages\\pandas\\io\\formats\\csvs.py:304\u001b[0m, in \u001b[0;36mCSVFormatter._save_body\u001b[1;34m(self)\u001b[0m\n\u001b[0;32m    302\u001b[0m \u001b[39mif\u001b[39;00m start_i \u001b[39m>\u001b[39m\u001b[39m=\u001b[39m end_i:\n\u001b[0;32m    303\u001b[0m     \u001b[39mbreak\u001b[39;00m\n\u001b[1;32m--> 304\u001b[0m \u001b[39mself\u001b[39;49m\u001b[39m.\u001b[39;49m_save_chunk(start_i, end_i)\n",
            "File \u001b[1;32m~\\AppData\\Roaming\\Python\\Python310\\site-packages\\pandas\\io\\formats\\csvs.py:314\u001b[0m, in \u001b[0;36mCSVFormatter._save_chunk\u001b[1;34m(self, start_i, end_i)\u001b[0m\n\u001b[0;32m    311\u001b[0m res \u001b[39m=\u001b[39m df\u001b[39m.\u001b[39m_mgr\u001b[39m.\u001b[39mto_native_types(\u001b[39m*\u001b[39m\u001b[39m*\u001b[39m\u001b[39mself\u001b[39m\u001b[39m.\u001b[39m_number_format)\n\u001b[0;32m    312\u001b[0m data \u001b[39m=\u001b[39m [res\u001b[39m.\u001b[39miget_values(i) \u001b[39mfor\u001b[39;00m i \u001b[39min\u001b[39;00m \u001b[39mrange\u001b[39m(\u001b[39mlen\u001b[39m(res\u001b[39m.\u001b[39mitems))]\n\u001b[1;32m--> 314\u001b[0m ix \u001b[39m=\u001b[39m \u001b[39mself\u001b[39m\u001b[39m.\u001b[39mdata_index[slicer]\u001b[39m.\u001b[39m_format_native_types(\u001b[39m*\u001b[39m\u001b[39m*\u001b[39m\u001b[39mself\u001b[39m\u001b[39m.\u001b[39m_number_format)\n\u001b[0;32m    315\u001b[0m libwriters\u001b[39m.\u001b[39mwrite_csv_rows(\n\u001b[0;32m    316\u001b[0m     data,\n\u001b[0;32m    317\u001b[0m     ix,\n\u001b[1;32m   (...)\u001b[0m\n\u001b[0;32m    320\u001b[0m     \u001b[39mself\u001b[39m\u001b[39m.\u001b[39mwriter,\n\u001b[0;32m    321\u001b[0m )\n",
            "File \u001b[1;32m~\\AppData\\Roaming\\Python\\Python310\\site-packages\\pandas\\core\\indexes\\numeric.py:354\u001b[0m, in \u001b[0;36mNumericIndex._format_native_types\u001b[1;34m(self, na_rep, float_format, decimal, quoting, **kwargs)\u001b[0m\n\u001b[0;32m    344\u001b[0m     formatter \u001b[39m=\u001b[39m FloatArrayFormatter(\n\u001b[0;32m    345\u001b[0m         \u001b[39mself\u001b[39m\u001b[39m.\u001b[39m_values,\n\u001b[0;32m    346\u001b[0m         na_rep\u001b[39m=\u001b[39mna_rep,\n\u001b[1;32m   (...)\u001b[0m\n\u001b[0;32m    350\u001b[0m         fixed_width\u001b[39m=\u001b[39m\u001b[39mFalse\u001b[39;00m,\n\u001b[0;32m    351\u001b[0m     )\n\u001b[0;32m    352\u001b[0m     \u001b[39mreturn\u001b[39;00m formatter\u001b[39m.\u001b[39mget_result_as_array()\n\u001b[1;32m--> 354\u001b[0m \u001b[39mreturn\u001b[39;00m \u001b[39msuper\u001b[39m()\u001b[39m.\u001b[39m_format_native_types(\n\u001b[0;32m    355\u001b[0m     na_rep\u001b[39m=\u001b[39mna_rep,\n\u001b[0;32m    356\u001b[0m     float_format\u001b[39m=\u001b[39mfloat_format,\n\u001b[0;32m    357\u001b[0m     decimal\u001b[39m=\u001b[39mdecimal,\n\u001b[0;32m    358\u001b[0m     quoting\u001b[39m=\u001b[39mquoting,\n\u001b[0;32m    359\u001b[0m     \u001b[39m*\u001b[39m\u001b[39m*\u001b[39mkwargs,\n\u001b[0;32m    360\u001b[0m )\n",
            "File \u001b[1;32m~\\AppData\\Roaming\\Python\\Python310\\site-packages\\pandas\\core\\indexes\\base.py:1453\u001b[0m, in \u001b[0;36mIndex._format_native_types\u001b[1;34m(self, na_rep, quoting, **kwargs)\u001b[0m\n\u001b[0;32m   1450\u001b[0m \u001b[39melse\u001b[39;00m:\n\u001b[0;32m   1451\u001b[0m     values \u001b[39m=\u001b[39m np\u001b[39m.\u001b[39marray(\u001b[39mself\u001b[39m, dtype\u001b[39m=\u001b[39m\u001b[39mobject\u001b[39m, copy\u001b[39m=\u001b[39m\u001b[39mTrue\u001b[39;00m)\n\u001b[1;32m-> 1453\u001b[0m values[mask] \u001b[39m=\u001b[39m na_rep\n\u001b[0;32m   1454\u001b[0m \u001b[39mreturn\u001b[39;00m values\n",
            "\u001b[1;31mIndexError\u001b[0m: boolean index did not match indexed array along dimension 0; dimension is 50001 but corresponding boolean dimension is 50000"
          ]
        }
      ],
      "source": [
        "result.to_csv('AMAZON_PREDICTED__DATA.csv', index=True)"
      ]
    },
    {
      "cell_type": "code",
      "execution_count": null,
      "metadata": {},
      "outputs": [],
      "source": []
    },
    {
      "cell_type": "code",
      "execution_count": null,
      "metadata": {},
      "outputs": [],
      "source": []
    },
    {
      "cell_type": "code",
      "execution_count": 11,
      "metadata": {},
      "outputs": [
        {
          "name": "stdout",
          "output_type": "stream",
          "text": [
            "Defaulting to user installation because normal site-packages is not writeable\n",
            "Collecting scikit-learn\n",
            "  Using cached scikit_learn-1.2.2-cp310-cp310-win_amd64.whl (8.3 MB)\n",
            "Collecting threadpoolctl>=2.0.0\n",
            "  Using cached threadpoolctl-3.1.0-py3-none-any.whl (14 kB)\n",
            "Requirement already satisfied: scipy>=1.3.2 in c:\\users\\dhruv\\appdata\\roaming\\python\\python310\\site-packages (from scikit-learn) (1.8.1)\n",
            "Requirement already satisfied: numpy>=1.17.3 in c:\\users\\dhruv\\appdata\\roaming\\python\\python310\\site-packages (from scikit-learn) (1.22.3)\n",
            "Collecting joblib>=1.1.1\n",
            "  Using cached joblib-1.2.0-py3-none-any.whl (297 kB)\n",
            "Installing collected packages: threadpoolctl, joblib, scikit-learn\n",
            "Successfully installed joblib-1.2.0 scikit-learn-1.2.2 threadpoolctl-3.1.0\n"
          ]
        },
        {
          "name": "stderr",
          "output_type": "stream",
          "text": [
            "WARNING: There was an error checking the latest version of pip.\n"
          ]
        }
      ],
      "source": [
        "!pip install -U scikit-learn"
      ]
    },
    {
      "cell_type": "code",
      "execution_count": 15,
      "metadata": {
        "id": "poOSZSyQ33b8"
      },
      "outputs": [],
      "source": [
        "from sklearn.feature_extraction.text import TfidfVectorizer\n",
        "from sklearn.linear_model import LinearRegression\n",
        "from sklearn.model_selection import train_test_split\n",
        "from sklearn.metrics import mean_squared_error"
      ]
    },
    {
      "cell_type": "code",
      "execution_count": 16,
      "metadata": {
        "id": "lLj_x7pb5f0z"
      },
      "outputs": [],
      "source": [
        "train_df = df.copy()"
      ]
    },
    {
      "cell_type": "code",
      "execution_count": 17,
      "metadata": {
        "id": "AaNyV5ip4VA3"
      },
      "outputs": [],
      "source": [
        "# Define the text-based features\n",
        "text_features = ['TITLE', 'BULLET_POINTS']\n",
        "\n",
        "# Convert the text-based features into numerical vectors using TF-IDF\n",
        "vectorizer = TfidfVectorizer(stop_words='english')\n",
        "X_train = vectorizer.fit_transform(train_df[text_features].apply(lambda x: ' '.join(x), axis=1))\n",
        "X_val = vectorizer.transform(test_df[text_features].apply(lambda x: ' '.join(x), axis=1))"
      ]
    },
    {
      "cell_type": "code",
      "execution_count": 19,
      "metadata": {},
      "outputs": [
        {
          "data": {
            "text/plain": [
              "<2249686x1042981 sparse matrix of type '<class 'numpy.float64'>'\n",
              "\twith 77399111 stored elements in Compressed Sparse Row format>"
            ]
          },
          "execution_count": 19,
          "metadata": {},
          "output_type": "execute_result"
        }
      ],
      "source": [
        "X_train"
      ]
    },
    {
      "cell_type": "code",
      "execution_count": 20,
      "metadata": {
        "id": "XW6m5KIP-32F"
      },
      "outputs": [
        {
          "ename": "MemoryError",
          "evalue": "Unable to allocate 17.1 TiB for an array with shape (2249686, 1042981) and data type float64",
          "output_type": "error",
          "traceback": [
            "\u001b[1;31m---------------------------------------------------------------------------\u001b[0m",
            "\u001b[1;31mMemoryError\u001b[0m                               Traceback (most recent call last)",
            "\u001b[1;32md:\\DAIICT\\SEMESTER_2\\ML_CHALLENGE\\amazon_ml_challenge.ipynb Cell 18\u001b[0m in \u001b[0;36m<cell line: 1>\u001b[1;34m()\u001b[0m\n\u001b[1;32m----> <a href='vscode-notebook-cell:/d%3A/DAIICT/SEMESTER_2/ML_CHALLENGE/amazon_ml_challenge.ipynb#X22sZmlsZQ%3D%3D?line=0'>1</a>\u001b[0m X_train \u001b[39m=\u001b[39m pd\u001b[39m.\u001b[39mDataFrame(X_train\u001b[39m.\u001b[39;49mtodense())\n\u001b[0;32m      <a href='vscode-notebook-cell:/d%3A/DAIICT/SEMESTER_2/ML_CHALLENGE/amazon_ml_challenge.ipynb#X22sZmlsZQ%3D%3D?line=1'>2</a>\u001b[0m X_val  \u001b[39m=\u001b[39m pd\u001b[39m.\u001b[39mDataFrame(X_val\u001b[39m.\u001b[39mtodense())\n",
            "File \u001b[1;32m~\\AppData\\Roaming\\Python\\Python310\\site-packages\\scipy\\sparse\\_base.py:939\u001b[0m, in \u001b[0;36mspmatrix.todense\u001b[1;34m(self, order, out)\u001b[0m\n\u001b[0;32m    909\u001b[0m \u001b[39mdef\u001b[39;00m \u001b[39mtodense\u001b[39m(\u001b[39mself\u001b[39m, order\u001b[39m=\u001b[39m\u001b[39mNone\u001b[39;00m, out\u001b[39m=\u001b[39m\u001b[39mNone\u001b[39;00m):\n\u001b[0;32m    910\u001b[0m     \u001b[39m\"\"\"\u001b[39;00m\n\u001b[0;32m    911\u001b[0m \u001b[39m    Return a dense matrix representation of this matrix.\u001b[39;00m\n\u001b[0;32m    912\u001b[0m \n\u001b[1;32m   (...)\u001b[0m\n\u001b[0;32m    937\u001b[0m \u001b[39m        `numpy.matrix` object that shares the same memory.\u001b[39;00m\n\u001b[0;32m    938\u001b[0m \u001b[39m    \"\"\"\u001b[39;00m\n\u001b[1;32m--> 939\u001b[0m     \u001b[39mreturn\u001b[39;00m \u001b[39mself\u001b[39m\u001b[39m.\u001b[39m_ascontainer(\u001b[39mself\u001b[39;49m\u001b[39m.\u001b[39;49mtoarray(order\u001b[39m=\u001b[39;49morder, out\u001b[39m=\u001b[39;49mout))\n",
            "File \u001b[1;32m~\\AppData\\Roaming\\Python\\Python310\\site-packages\\scipy\\sparse\\_compressed.py:1051\u001b[0m, in \u001b[0;36m_cs_matrix.toarray\u001b[1;34m(self, order, out)\u001b[0m\n\u001b[0;32m   1049\u001b[0m \u001b[39mif\u001b[39;00m out \u001b[39mis\u001b[39;00m \u001b[39mNone\u001b[39;00m \u001b[39mand\u001b[39;00m order \u001b[39mis\u001b[39;00m \u001b[39mNone\u001b[39;00m:\n\u001b[0;32m   1050\u001b[0m     order \u001b[39m=\u001b[39m \u001b[39mself\u001b[39m\u001b[39m.\u001b[39m_swap(\u001b[39m'\u001b[39m\u001b[39mcf\u001b[39m\u001b[39m'\u001b[39m)[\u001b[39m0\u001b[39m]\n\u001b[1;32m-> 1051\u001b[0m out \u001b[39m=\u001b[39m \u001b[39mself\u001b[39;49m\u001b[39m.\u001b[39;49m_process_toarray_args(order, out)\n\u001b[0;32m   1052\u001b[0m \u001b[39mif\u001b[39;00m \u001b[39mnot\u001b[39;00m (out\u001b[39m.\u001b[39mflags\u001b[39m.\u001b[39mc_contiguous \u001b[39mor\u001b[39;00m out\u001b[39m.\u001b[39mflags\u001b[39m.\u001b[39mf_contiguous):\n\u001b[0;32m   1053\u001b[0m     \u001b[39mraise\u001b[39;00m \u001b[39mValueError\u001b[39;00m(\u001b[39m'\u001b[39m\u001b[39mOutput array must be C or F contiguous\u001b[39m\u001b[39m'\u001b[39m)\n",
            "File \u001b[1;32m~\\AppData\\Roaming\\Python\\Python310\\site-packages\\scipy\\sparse\\_base.py:1291\u001b[0m, in \u001b[0;36mspmatrix._process_toarray_args\u001b[1;34m(self, order, out)\u001b[0m\n\u001b[0;32m   1289\u001b[0m     \u001b[39mreturn\u001b[39;00m out\n\u001b[0;32m   1290\u001b[0m \u001b[39melse\u001b[39;00m:\n\u001b[1;32m-> 1291\u001b[0m     \u001b[39mreturn\u001b[39;00m np\u001b[39m.\u001b[39;49mzeros(\u001b[39mself\u001b[39;49m\u001b[39m.\u001b[39;49mshape, dtype\u001b[39m=\u001b[39;49m\u001b[39mself\u001b[39;49m\u001b[39m.\u001b[39;49mdtype, order\u001b[39m=\u001b[39;49morder)\n",
            "\u001b[1;31mMemoryError\u001b[0m: Unable to allocate 17.1 TiB for an array with shape (2249686, 1042981) and data type float64"
          ]
        }
      ],
      "source": [
        "X_train = pd.DataFrame(X_train.todense())\n",
        "X_val  = pd.DataFrame(X_val.todense())"
      ]
    },
    {
      "cell_type": "code",
      "execution_count": 18,
      "metadata": {
        "colab": {
          "base_uri": "https://localhost:8080/",
          "height": 363
        },
        "id": "d6kS5qn48t3R",
        "outputId": "c38a840a-8e72-4a62-e5d0-fc787cd94260"
      },
      "outputs": [
        {
          "ename": "TypeError",
          "evalue": "ignored",
          "output_type": "error",
          "traceback": [
            "\u001b[0;31m---------------------------------------------------------------------------\u001b[0m",
            "\u001b[0;31mTypeError\u001b[0m                                 Traceback (most recent call last)",
            "\u001b[0;32m<ipython-input-18-e958b523f36b>\u001b[0m in \u001b[0;36m<cell line: 2>\u001b[0;34m()\u001b[0m\n\u001b[1;32m      1\u001b[0m \u001b[0;31m# Add the product type ID as a feature\u001b[0m\u001b[0;34m\u001b[0m\u001b[0;34m\u001b[0m\u001b[0m\n\u001b[0;32m----> 2\u001b[0;31m \u001b[0mX_train\u001b[0m \u001b[0;34m=\u001b[0m \u001b[0mpd\u001b[0m\u001b[0;34m.\u001b[0m\u001b[0mconcat\u001b[0m\u001b[0;34m(\u001b[0m\u001b[0;34m[\u001b[0m\u001b[0mX_train\u001b[0m\u001b[0;34m,\u001b[0m \u001b[0mtrain_df\u001b[0m\u001b[0;34m[\u001b[0m\u001b[0;34m'PRODUCT_TYPE_ID'\u001b[0m\u001b[0;34m]\u001b[0m\u001b[0;34m]\u001b[0m\u001b[0;34m,\u001b[0m \u001b[0maxis\u001b[0m\u001b[0;34m=\u001b[0m\u001b[0;36m1\u001b[0m\u001b[0;34m)\u001b[0m\u001b[0;34m\u001b[0m\u001b[0;34m\u001b[0m\u001b[0m\n\u001b[0m\u001b[1;32m      3\u001b[0m \u001b[0mX_val\u001b[0m \u001b[0;34m=\u001b[0m \u001b[0mpd\u001b[0m\u001b[0;34m.\u001b[0m\u001b[0mconcat\u001b[0m\u001b[0;34m(\u001b[0m\u001b[0;34m[\u001b[0m\u001b[0mX_val\u001b[0m\u001b[0;34m,\u001b[0m \u001b[0mtest_df\u001b[0m\u001b[0;34m[\u001b[0m\u001b[0;34m'PRODUCT_TYPE_ID'\u001b[0m\u001b[0;34m]\u001b[0m\u001b[0;34m]\u001b[0m\u001b[0;34m,\u001b[0m \u001b[0maxis\u001b[0m\u001b[0;34m=\u001b[0m\u001b[0;36m1\u001b[0m\u001b[0;34m)\u001b[0m\u001b[0;34m\u001b[0m\u001b[0;34m\u001b[0m\u001b[0m\n",
            "\u001b[0;32m/usr/local/lib/python3.9/dist-packages/pandas/util/_decorators.py\u001b[0m in \u001b[0;36mwrapper\u001b[0;34m(*args, **kwargs)\u001b[0m\n\u001b[1;32m    329\u001b[0m                     \u001b[0mstacklevel\u001b[0m\u001b[0;34m=\u001b[0m\u001b[0mfind_stack_level\u001b[0m\u001b[0;34m(\u001b[0m\u001b[0;34m)\u001b[0m\u001b[0;34m,\u001b[0m\u001b[0;34m\u001b[0m\u001b[0;34m\u001b[0m\u001b[0m\n\u001b[1;32m    330\u001b[0m                 )\n\u001b[0;32m--> 331\u001b[0;31m             \u001b[0;32mreturn\u001b[0m \u001b[0mfunc\u001b[0m\u001b[0;34m(\u001b[0m\u001b[0;34m*\u001b[0m\u001b[0margs\u001b[0m\u001b[0;34m,\u001b[0m \u001b[0;34m**\u001b[0m\u001b[0mkwargs\u001b[0m\u001b[0;34m)\u001b[0m\u001b[0;34m\u001b[0m\u001b[0;34m\u001b[0m\u001b[0m\n\u001b[0m\u001b[1;32m    332\u001b[0m \u001b[0;34m\u001b[0m\u001b[0m\n\u001b[1;32m    333\u001b[0m         \u001b[0;31m# error: \"Callable[[VarArg(Any), KwArg(Any)], Any]\" has no\u001b[0m\u001b[0;34m\u001b[0m\u001b[0;34m\u001b[0m\u001b[0m\n",
            "\u001b[0;32m/usr/local/lib/python3.9/dist-packages/pandas/core/reshape/concat.py\u001b[0m in \u001b[0;36mconcat\u001b[0;34m(objs, axis, join, ignore_index, keys, levels, names, verify_integrity, sort, copy)\u001b[0m\n\u001b[1;32m    366\u001b[0m     \u001b[0;36m1\u001b[0m   \u001b[0;36m3\u001b[0m   \u001b[0;36m4\u001b[0m\u001b[0;34m\u001b[0m\u001b[0;34m\u001b[0m\u001b[0m\n\u001b[1;32m    367\u001b[0m     \"\"\"\n\u001b[0;32m--> 368\u001b[0;31m     op = _Concatenator(\n\u001b[0m\u001b[1;32m    369\u001b[0m         \u001b[0mobjs\u001b[0m\u001b[0;34m,\u001b[0m\u001b[0;34m\u001b[0m\u001b[0;34m\u001b[0m\u001b[0m\n\u001b[1;32m    370\u001b[0m         \u001b[0maxis\u001b[0m\u001b[0;34m=\u001b[0m\u001b[0maxis\u001b[0m\u001b[0;34m,\u001b[0m\u001b[0;34m\u001b[0m\u001b[0;34m\u001b[0m\u001b[0m\n",
            "\u001b[0;32m/usr/local/lib/python3.9/dist-packages/pandas/core/reshape/concat.py\u001b[0m in \u001b[0;36m__init__\u001b[0;34m(self, objs, axis, join, keys, levels, names, ignore_index, verify_integrity, copy, sort)\u001b[0m\n\u001b[1;32m    456\u001b[0m                     \u001b[0;34m\"only Series and DataFrame objs are valid\"\u001b[0m\u001b[0;34m\u001b[0m\u001b[0;34m\u001b[0m\u001b[0m\n\u001b[1;32m    457\u001b[0m                 )\n\u001b[0;32m--> 458\u001b[0;31m                 \u001b[0;32mraise\u001b[0m \u001b[0mTypeError\u001b[0m\u001b[0;34m(\u001b[0m\u001b[0mmsg\u001b[0m\u001b[0;34m)\u001b[0m\u001b[0;34m\u001b[0m\u001b[0;34m\u001b[0m\u001b[0m\n\u001b[0m\u001b[1;32m    459\u001b[0m \u001b[0;34m\u001b[0m\u001b[0m\n\u001b[1;32m    460\u001b[0m             \u001b[0mndims\u001b[0m\u001b[0;34m.\u001b[0m\u001b[0madd\u001b[0m\u001b[0;34m(\u001b[0m\u001b[0mobj\u001b[0m\u001b[0;34m.\u001b[0m\u001b[0mndim\u001b[0m\u001b[0;34m)\u001b[0m\u001b[0;34m\u001b[0m\u001b[0;34m\u001b[0m\u001b[0m\n",
            "\u001b[0;31mTypeError\u001b[0m: cannot concatenate object of type '<class 'scipy.sparse._csr.csr_matrix'>'; only Series and DataFrame objs are valid"
          ]
        }
      ],
      "source": [
        "# Add the product type ID as a feature\n",
        "X_train = pd.concat([X_train, train_df['PRODUCT_TYPE_ID']], axis=1)\n",
        "X_val = pd.concat([X_val, test_df['PRODUCT_TYPE_ID']], axis=1)"
      ]
    },
    {
      "cell_type": "code",
      "execution_count": null,
      "metadata": {
        "id": "wuWvAz0v7T3C"
      },
      "outputs": [],
      "source": [
        "# Define the target variable\n",
        "y_train = train_df['PRODUCT_LENGTH']\n",
        "\n",
        "# Train a linear regression model\n",
        "model = LinearRegression()\n",
        "model.fit(X_train, y_train)\n",
        "\n",
        "# Make predictions on the validation set\n",
        "y_pred = model.predict(X_val)"
      ]
    },
    {
      "cell_type": "code",
      "execution_count": null,
      "metadata": {
        "id": "Cva40vxZAC8D"
      },
      "outputs": [],
      "source": [
        "result = pd.concat([X_val, y_pred], axis=1)\n",
        "result = result.drop(['TITLE','BULLET_POINTS','PRODUCT_TYPE_ID'], axis=1)"
      ]
    },
    {
      "cell_type": "code",
      "execution_count": null,
      "metadata": {
        "id": "2mezVtVoBP2C"
      },
      "outputs": [],
      "source": [
        "result.to_csv('preprocessed_data.csv', index=False)"
      ]
    },
    {
      "cell_type": "code",
      "execution_count": null,
      "metadata": {
        "id": "eWON5BZu4sbR"
      },
      "outputs": [],
      "source": [
        "# from sklearn import metrics\n",
        "\n",
        "\n",
        "# score = max(0, 100*(1-metrics.mean_absolute_percentage_error(y_val, y_pred)))\n",
        "\n",
        "# print(score)\n"
      ]
    },
    {
      "cell_type": "code",
      "execution_count": null,
      "metadata": {
        "id": "SK45-42I4sYy"
      },
      "outputs": [],
      "source": []
    },
    {
      "cell_type": "code",
      "execution_count": null,
      "metadata": {
        "id": "s6GWP2sE4sWd"
      },
      "outputs": [],
      "source": []
    },
    {
      "cell_type": "code",
      "execution_count": null,
      "metadata": {
        "id": "hBNxTy8K4sT-"
      },
      "outputs": [],
      "source": []
    },
    {
      "cell_type": "code",
      "execution_count": null,
      "metadata": {
        "id": "JwPfdQY84sOs"
      },
      "outputs": [],
      "source": []
    },
    {
      "cell_type": "code",
      "execution_count": null,
      "metadata": {
        "id": "hICftL3_3U9L"
      },
      "outputs": [],
      "source": []
    },
    {
      "cell_type": "code",
      "execution_count": null,
      "metadata": {
        "id": "Xr1Sj_Bz3U6v"
      },
      "outputs": [],
      "source": []
    },
    {
      "cell_type": "code",
      "execution_count": null,
      "metadata": {
        "id": "EHqPjySb3U4t"
      },
      "outputs": [],
      "source": []
    },
    {
      "cell_type": "code",
      "execution_count": null,
      "metadata": {
        "id": "anfneZCA3U1P"
      },
      "outputs": [],
      "source": []
    },
    {
      "cell_type": "code",
      "execution_count": null,
      "metadata": {
        "id": "cIZapaZc3UyR"
      },
      "outputs": [],
      "source": []
    },
    {
      "cell_type": "code",
      "execution_count": null,
      "metadata": {
        "id": "aq_Dy25d3Uvd"
      },
      "outputs": [],
      "source": []
    },
    {
      "cell_type": "code",
      "execution_count": null,
      "metadata": {
        "id": "VArgn4mx3Ust"
      },
      "outputs": [],
      "source": []
    },
    {
      "cell_type": "code",
      "execution_count": null,
      "metadata": {
        "id": "dWAZAtAL3Upb"
      },
      "outputs": [],
      "source": []
    },
    {
      "cell_type": "code",
      "execution_count": null,
      "metadata": {
        "id": "aFGq77gc3Uip"
      },
      "outputs": [],
      "source": []
    },
    {
      "cell_type": "markdown",
      "metadata": {
        "id": "v5GaeOw6KtuB"
      },
      "source": []
    },
    {
      "cell_type": "code",
      "execution_count": null,
      "metadata": {
        "id": "FxqAyyJIAoPN"
      },
      "outputs": [],
      "source": [
        "# # import nltk\n",
        "# # from nltk.tokenize import word_tokenize\n",
        "\n",
        "# # Tokenize the title and description columns\n",
        "# df['title_tokens'] = df['TITLE'].apply(word_tokenize)\n",
        "# # df['description_tokens'] = df['DESCRIPTION'].apply(word_tokenize)\n",
        "\n",
        "# # Extract the number of words and characters in each text column\n",
        "# df['title_word_count'] = df['title_tokens'].apply(len)\n",
        "# df['title_char_count'] = df['TITLE'].apply(len)\n",
        "# # df['description_word_count'] = df['description_tokens'].apply(len)\n",
        "# # df['description_char_count'] = df['DESCRIPTION'].apply(len)\n",
        "\n",
        "# # Extract the number of bullet points\n",
        "# df['bullet_point_count'] = df['BULLET_POINTS'].str.count('\\n') + 1\n",
        "\n",
        "# # Convert product type ID to categorical variable\n",
        "# df['PRODUCT_TYPE_ID'] = df['PRODUCT_TYPE_ID'].astype('category')\n",
        "\n",
        "# # # Extract the length of the product     #?????????????????????????????????????????????? ye cm mai convert kru?\n",
        "# # df['PRODUCT_LENGTH_cm'] = df['PRODUCT_LENGTH'] * 2.54 # Convert from inches to cm\n",
        "\n",
        "# # Drop the original text columns and any other unnecessary columns\n",
        "# # df = df.drop(columns=['TITLE', 'DESCRIPTION', 'BULLET_POINTS', 'PRODUCT_LENGTH'])\n",
        "# df = df.drop(columns=['TITLE', 'BULLET_POINTS'])\n",
        "\n",
        "# # Save the preprocessed data\n",
        "# df.to_csv('preprocessed_data.csv', index=False)"
      ]
    },
    {
      "cell_type": "code",
      "execution_count": null,
      "metadata": {
        "id": "h-vJL9ARNxQi"
      },
      "outputs": [],
      "source": []
    }
  ],
  "metadata": {
    "colab": {
      "provenance": []
    },
    "kernelspec": {
      "display_name": "Python 3",
      "name": "python3"
    },
    "language_info": {
      "codemirror_mode": {
        "name": "ipython",
        "version": 3
      },
      "file_extension": ".py",
      "mimetype": "text/x-python",
      "name": "python",
      "nbconvert_exporter": "python",
      "pygments_lexer": "ipython3",
      "version": "3.10.3"
    }
  },
  "nbformat": 4,
  "nbformat_minor": 0
}
